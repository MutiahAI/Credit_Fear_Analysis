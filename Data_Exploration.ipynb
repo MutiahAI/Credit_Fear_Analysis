{
  "nbformat": 4,
  "nbformat_minor": 0,
  "metadata": {
    "colab": {
      "provenance": []
    },
    "kernelspec": {
      "name": "python3",
      "display_name": "Python 3"
    },
    "language_info": {
      "name": "python"
    }
  },
  "cells": [
    {
      "cell_type": "markdown",
      "source": [
        "<font size=\"+3\"><strong>Data Exploration</strong></font>"
      ],
      "metadata": {
        "id": "UIv7VMwb6BEb"
      }
    },
    {
      "cell_type": "markdown",
      "source": [
        "#### This project centers around households that have either been denied credit or harbor concerns about credit rejection. The exploration will delve into features such as Race, Age, Assets, Education, Income, and Debt to gain insights into these households."
      ],
      "metadata": {
        "id": "-Yzio4Kn6mDA"
      }
    },
    {
      "cell_type": "code",
      "source": [
        "import pandas as pd\n",
        "import matplotlib.pyplot as plt\n",
        "import seaborn as sns"
      ],
      "metadata": {
        "id": "8jPXxWsv5p5m"
      },
      "execution_count": 1,
      "outputs": []
    },
    {
      "cell_type": "code",
      "source": [
        "# Loading data\n",
        "df = pd.read_csv(\"data/scfp2022excel.zip\")\n",
        "print(\"df shape:\", df.shape)\n",
        "df.head()"
      ],
      "metadata": {
        "colab": {
          "base_uri": "https://localhost:8080/",
          "height": 273
        },
        "id": "cIb8LBEr6YOT",
        "outputId": "390c91d5-4e28-4ae0-845f-99d164c740fd"
      },
      "execution_count": 2,
      "outputs": [
        {
          "output_type": "stream",
          "name": "stdout",
          "text": [
            "df shape: (22975, 356)\n"
          ]
        },
        {
          "output_type": "execute_result",
          "data": {
            "text/plain": [
              "   YY1  Y1          WGT  HHSEX  AGE  AGECL  EDUC  EDCL  MARRIED  KIDS  ...  \\\n",
              "0    1  11  3027.956120      2   70      5     9     3        2     2  ...   \n",
              "1    1  12  3054.900065      2   70      5     9     3        2     2  ...   \n",
              "2    1  13  3163.637766      2   70      5     9     3        2     2  ...   \n",
              "3    1  14  3166.228463      2   70      5     9     3        2     2  ...   \n",
              "4    1  15  3235.624715      2   70      5     9     3        2     2  ...   \n",
              "\n",
              "   NWCAT  INCCAT  ASSETCAT  NINCCAT  NINC2CAT  NWPCTLECAT  INCPCTLECAT  \\\n",
              "0      4       2         4        2         1           8            3   \n",
              "1      4       2         5        2         1           8            3   \n",
              "2      4       2         4        2         1           8            3   \n",
              "3      3       2         4        1         1           6            3   \n",
              "4      3       2         4        2         1           8            3   \n",
              "\n",
              "   NINCPCTLECAT  INCQRTCAT  NINCQRTCAT  \n",
              "0             3          2           1  \n",
              "1             3          2           1  \n",
              "2             3          1           1  \n",
              "3             2          1           1  \n",
              "4             3          1           1  \n",
              "\n",
              "[5 rows x 356 columns]"
            ],
            "text/html": [
              "\n",
              "  <div id=\"df-2927e04b-346d-4fe5-b271-6a347ba91a94\" class=\"colab-df-container\">\n",
              "    <div>\n",
              "<style scoped>\n",
              "    .dataframe tbody tr th:only-of-type {\n",
              "        vertical-align: middle;\n",
              "    }\n",
              "\n",
              "    .dataframe tbody tr th {\n",
              "        vertical-align: top;\n",
              "    }\n",
              "\n",
              "    .dataframe thead th {\n",
              "        text-align: right;\n",
              "    }\n",
              "</style>\n",
              "<table border=\"1\" class=\"dataframe\">\n",
              "  <thead>\n",
              "    <tr style=\"text-align: right;\">\n",
              "      <th></th>\n",
              "      <th>YY1</th>\n",
              "      <th>Y1</th>\n",
              "      <th>WGT</th>\n",
              "      <th>HHSEX</th>\n",
              "      <th>AGE</th>\n",
              "      <th>AGECL</th>\n",
              "      <th>EDUC</th>\n",
              "      <th>EDCL</th>\n",
              "      <th>MARRIED</th>\n",
              "      <th>KIDS</th>\n",
              "      <th>...</th>\n",
              "      <th>NWCAT</th>\n",
              "      <th>INCCAT</th>\n",
              "      <th>ASSETCAT</th>\n",
              "      <th>NINCCAT</th>\n",
              "      <th>NINC2CAT</th>\n",
              "      <th>NWPCTLECAT</th>\n",
              "      <th>INCPCTLECAT</th>\n",
              "      <th>NINCPCTLECAT</th>\n",
              "      <th>INCQRTCAT</th>\n",
              "      <th>NINCQRTCAT</th>\n",
              "    </tr>\n",
              "  </thead>\n",
              "  <tbody>\n",
              "    <tr>\n",
              "      <th>0</th>\n",
              "      <td>1</td>\n",
              "      <td>11</td>\n",
              "      <td>3027.956120</td>\n",
              "      <td>2</td>\n",
              "      <td>70</td>\n",
              "      <td>5</td>\n",
              "      <td>9</td>\n",
              "      <td>3</td>\n",
              "      <td>2</td>\n",
              "      <td>2</td>\n",
              "      <td>...</td>\n",
              "      <td>4</td>\n",
              "      <td>2</td>\n",
              "      <td>4</td>\n",
              "      <td>2</td>\n",
              "      <td>1</td>\n",
              "      <td>8</td>\n",
              "      <td>3</td>\n",
              "      <td>3</td>\n",
              "      <td>2</td>\n",
              "      <td>1</td>\n",
              "    </tr>\n",
              "    <tr>\n",
              "      <th>1</th>\n",
              "      <td>1</td>\n",
              "      <td>12</td>\n",
              "      <td>3054.900065</td>\n",
              "      <td>2</td>\n",
              "      <td>70</td>\n",
              "      <td>5</td>\n",
              "      <td>9</td>\n",
              "      <td>3</td>\n",
              "      <td>2</td>\n",
              "      <td>2</td>\n",
              "      <td>...</td>\n",
              "      <td>4</td>\n",
              "      <td>2</td>\n",
              "      <td>5</td>\n",
              "      <td>2</td>\n",
              "      <td>1</td>\n",
              "      <td>8</td>\n",
              "      <td>3</td>\n",
              "      <td>3</td>\n",
              "      <td>2</td>\n",
              "      <td>1</td>\n",
              "    </tr>\n",
              "    <tr>\n",
              "      <th>2</th>\n",
              "      <td>1</td>\n",
              "      <td>13</td>\n",
              "      <td>3163.637766</td>\n",
              "      <td>2</td>\n",
              "      <td>70</td>\n",
              "      <td>5</td>\n",
              "      <td>9</td>\n",
              "      <td>3</td>\n",
              "      <td>2</td>\n",
              "      <td>2</td>\n",
              "      <td>...</td>\n",
              "      <td>4</td>\n",
              "      <td>2</td>\n",
              "      <td>4</td>\n",
              "      <td>2</td>\n",
              "      <td>1</td>\n",
              "      <td>8</td>\n",
              "      <td>3</td>\n",
              "      <td>3</td>\n",
              "      <td>1</td>\n",
              "      <td>1</td>\n",
              "    </tr>\n",
              "    <tr>\n",
              "      <th>3</th>\n",
              "      <td>1</td>\n",
              "      <td>14</td>\n",
              "      <td>3166.228463</td>\n",
              "      <td>2</td>\n",
              "      <td>70</td>\n",
              "      <td>5</td>\n",
              "      <td>9</td>\n",
              "      <td>3</td>\n",
              "      <td>2</td>\n",
              "      <td>2</td>\n",
              "      <td>...</td>\n",
              "      <td>3</td>\n",
              "      <td>2</td>\n",
              "      <td>4</td>\n",
              "      <td>1</td>\n",
              "      <td>1</td>\n",
              "      <td>6</td>\n",
              "      <td>3</td>\n",
              "      <td>2</td>\n",
              "      <td>1</td>\n",
              "      <td>1</td>\n",
              "    </tr>\n",
              "    <tr>\n",
              "      <th>4</th>\n",
              "      <td>1</td>\n",
              "      <td>15</td>\n",
              "      <td>3235.624715</td>\n",
              "      <td>2</td>\n",
              "      <td>70</td>\n",
              "      <td>5</td>\n",
              "      <td>9</td>\n",
              "      <td>3</td>\n",
              "      <td>2</td>\n",
              "      <td>2</td>\n",
              "      <td>...</td>\n",
              "      <td>3</td>\n",
              "      <td>2</td>\n",
              "      <td>4</td>\n",
              "      <td>2</td>\n",
              "      <td>1</td>\n",
              "      <td>8</td>\n",
              "      <td>3</td>\n",
              "      <td>3</td>\n",
              "      <td>1</td>\n",
              "      <td>1</td>\n",
              "    </tr>\n",
              "  </tbody>\n",
              "</table>\n",
              "<p>5 rows × 356 columns</p>\n",
              "</div>\n",
              "    <div class=\"colab-df-buttons\">\n",
              "\n",
              "  <div class=\"colab-df-container\">\n",
              "    <button class=\"colab-df-convert\" onclick=\"convertToInteractive('df-2927e04b-346d-4fe5-b271-6a347ba91a94')\"\n",
              "            title=\"Convert this dataframe to an interactive table.\"\n",
              "            style=\"display:none;\">\n",
              "\n",
              "  <svg xmlns=\"http://www.w3.org/2000/svg\" height=\"24px\" viewBox=\"0 -960 960 960\">\n",
              "    <path d=\"M120-120v-720h720v720H120Zm60-500h600v-160H180v160Zm220 220h160v-160H400v160Zm0 220h160v-160H400v160ZM180-400h160v-160H180v160Zm440 0h160v-160H620v160ZM180-180h160v-160H180v160Zm440 0h160v-160H620v160Z\"/>\n",
              "  </svg>\n",
              "    </button>\n",
              "\n",
              "  <style>\n",
              "    .colab-df-container {\n",
              "      display:flex;\n",
              "      gap: 12px;\n",
              "    }\n",
              "\n",
              "    .colab-df-convert {\n",
              "      background-color: #E8F0FE;\n",
              "      border: none;\n",
              "      border-radius: 50%;\n",
              "      cursor: pointer;\n",
              "      display: none;\n",
              "      fill: #1967D2;\n",
              "      height: 32px;\n",
              "      padding: 0 0 0 0;\n",
              "      width: 32px;\n",
              "    }\n",
              "\n",
              "    .colab-df-convert:hover {\n",
              "      background-color: #E2EBFA;\n",
              "      box-shadow: 0px 1px 2px rgba(60, 64, 67, 0.3), 0px 1px 3px 1px rgba(60, 64, 67, 0.15);\n",
              "      fill: #174EA6;\n",
              "    }\n",
              "\n",
              "    .colab-df-buttons div {\n",
              "      margin-bottom: 4px;\n",
              "    }\n",
              "\n",
              "    [theme=dark] .colab-df-convert {\n",
              "      background-color: #3B4455;\n",
              "      fill: #D2E3FC;\n",
              "    }\n",
              "\n",
              "    [theme=dark] .colab-df-convert:hover {\n",
              "      background-color: #434B5C;\n",
              "      box-shadow: 0px 1px 3px 1px rgba(0, 0, 0, 0.15);\n",
              "      filter: drop-shadow(0px 1px 2px rgba(0, 0, 0, 0.3));\n",
              "      fill: #FFFFFF;\n",
              "    }\n",
              "  </style>\n",
              "\n",
              "    <script>\n",
              "      const buttonEl =\n",
              "        document.querySelector('#df-2927e04b-346d-4fe5-b271-6a347ba91a94 button.colab-df-convert');\n",
              "      buttonEl.style.display =\n",
              "        google.colab.kernel.accessAllowed ? 'block' : 'none';\n",
              "\n",
              "      async function convertToInteractive(key) {\n",
              "        const element = document.querySelector('#df-2927e04b-346d-4fe5-b271-6a347ba91a94');\n",
              "        const dataTable =\n",
              "          await google.colab.kernel.invokeFunction('convertToInteractive',\n",
              "                                                    [key], {});\n",
              "        if (!dataTable) return;\n",
              "\n",
              "        const docLinkHtml = 'Like what you see? Visit the ' +\n",
              "          '<a target=\"_blank\" href=https://colab.research.google.com/notebooks/data_table.ipynb>data table notebook</a>'\n",
              "          + ' to learn more about interactive tables.';\n",
              "        element.innerHTML = '';\n",
              "        dataTable['output_type'] = 'display_data';\n",
              "        await google.colab.output.renderOutput(dataTable, element);\n",
              "        const docLink = document.createElement('div');\n",
              "        docLink.innerHTML = docLinkHtml;\n",
              "        element.appendChild(docLink);\n",
              "      }\n",
              "    </script>\n",
              "  </div>\n",
              "\n",
              "\n",
              "<div id=\"df-8d508a62-53d3-4dc6-b1a2-3e7d9844f8b4\">\n",
              "  <button class=\"colab-df-quickchart\" onclick=\"quickchart('df-8d508a62-53d3-4dc6-b1a2-3e7d9844f8b4')\"\n",
              "            title=\"Suggest charts\"\n",
              "            style=\"display:none;\">\n",
              "\n",
              "<svg xmlns=\"http://www.w3.org/2000/svg\" height=\"24px\"viewBox=\"0 0 24 24\"\n",
              "     width=\"24px\">\n",
              "    <g>\n",
              "        <path d=\"M19 3H5c-1.1 0-2 .9-2 2v14c0 1.1.9 2 2 2h14c1.1 0 2-.9 2-2V5c0-1.1-.9-2-2-2zM9 17H7v-7h2v7zm4 0h-2V7h2v10zm4 0h-2v-4h2v4z\"/>\n",
              "    </g>\n",
              "</svg>\n",
              "  </button>\n",
              "\n",
              "<style>\n",
              "  .colab-df-quickchart {\n",
              "      --bg-color: #E8F0FE;\n",
              "      --fill-color: #1967D2;\n",
              "      --hover-bg-color: #E2EBFA;\n",
              "      --hover-fill-color: #174EA6;\n",
              "      --disabled-fill-color: #AAA;\n",
              "      --disabled-bg-color: #DDD;\n",
              "  }\n",
              "\n",
              "  [theme=dark] .colab-df-quickchart {\n",
              "      --bg-color: #3B4455;\n",
              "      --fill-color: #D2E3FC;\n",
              "      --hover-bg-color: #434B5C;\n",
              "      --hover-fill-color: #FFFFFF;\n",
              "      --disabled-bg-color: #3B4455;\n",
              "      --disabled-fill-color: #666;\n",
              "  }\n",
              "\n",
              "  .colab-df-quickchart {\n",
              "    background-color: var(--bg-color);\n",
              "    border: none;\n",
              "    border-radius: 50%;\n",
              "    cursor: pointer;\n",
              "    display: none;\n",
              "    fill: var(--fill-color);\n",
              "    height: 32px;\n",
              "    padding: 0;\n",
              "    width: 32px;\n",
              "  }\n",
              "\n",
              "  .colab-df-quickchart:hover {\n",
              "    background-color: var(--hover-bg-color);\n",
              "    box-shadow: 0 1px 2px rgba(60, 64, 67, 0.3), 0 1px 3px 1px rgba(60, 64, 67, 0.15);\n",
              "    fill: var(--button-hover-fill-color);\n",
              "  }\n",
              "\n",
              "  .colab-df-quickchart-complete:disabled,\n",
              "  .colab-df-quickchart-complete:disabled:hover {\n",
              "    background-color: var(--disabled-bg-color);\n",
              "    fill: var(--disabled-fill-color);\n",
              "    box-shadow: none;\n",
              "  }\n",
              "\n",
              "  .colab-df-spinner {\n",
              "    border: 2px solid var(--fill-color);\n",
              "    border-color: transparent;\n",
              "    border-bottom-color: var(--fill-color);\n",
              "    animation:\n",
              "      spin 1s steps(1) infinite;\n",
              "  }\n",
              "\n",
              "  @keyframes spin {\n",
              "    0% {\n",
              "      border-color: transparent;\n",
              "      border-bottom-color: var(--fill-color);\n",
              "      border-left-color: var(--fill-color);\n",
              "    }\n",
              "    20% {\n",
              "      border-color: transparent;\n",
              "      border-left-color: var(--fill-color);\n",
              "      border-top-color: var(--fill-color);\n",
              "    }\n",
              "    30% {\n",
              "      border-color: transparent;\n",
              "      border-left-color: var(--fill-color);\n",
              "      border-top-color: var(--fill-color);\n",
              "      border-right-color: var(--fill-color);\n",
              "    }\n",
              "    40% {\n",
              "      border-color: transparent;\n",
              "      border-right-color: var(--fill-color);\n",
              "      border-top-color: var(--fill-color);\n",
              "    }\n",
              "    60% {\n",
              "      border-color: transparent;\n",
              "      border-right-color: var(--fill-color);\n",
              "    }\n",
              "    80% {\n",
              "      border-color: transparent;\n",
              "      border-right-color: var(--fill-color);\n",
              "      border-bottom-color: var(--fill-color);\n",
              "    }\n",
              "    90% {\n",
              "      border-color: transparent;\n",
              "      border-bottom-color: var(--fill-color);\n",
              "    }\n",
              "  }\n",
              "</style>\n",
              "\n",
              "  <script>\n",
              "    async function quickchart(key) {\n",
              "      const quickchartButtonEl =\n",
              "        document.querySelector('#' + key + ' button');\n",
              "      quickchartButtonEl.disabled = true;  // To prevent multiple clicks.\n",
              "      quickchartButtonEl.classList.add('colab-df-spinner');\n",
              "      try {\n",
              "        const charts = await google.colab.kernel.invokeFunction(\n",
              "            'suggestCharts', [key], {});\n",
              "      } catch (error) {\n",
              "        console.error('Error during call to suggestCharts:', error);\n",
              "      }\n",
              "      quickchartButtonEl.classList.remove('colab-df-spinner');\n",
              "      quickchartButtonEl.classList.add('colab-df-quickchart-complete');\n",
              "    }\n",
              "    (() => {\n",
              "      let quickchartButtonEl =\n",
              "        document.querySelector('#df-8d508a62-53d3-4dc6-b1a2-3e7d9844f8b4 button');\n",
              "      quickchartButtonEl.style.display =\n",
              "        google.colab.kernel.accessAllowed ? 'block' : 'none';\n",
              "    })();\n",
              "  </script>\n",
              "</div>\n",
              "    </div>\n",
              "  </div>\n"
            ]
          },
          "metadata": {},
          "execution_count": 2
        }
      ]
    },
    {
      "cell_type": "markdown",
      "source": [
        "The official [Code Book](https://sda.berkeley.edu/sdaweb/docs/scfcomb2022/DOC/hcbk.htm) gives more details about each column"
      ],
      "metadata": {
        "id": "Nk9ZGzSK6ib9"
      }
    },
    {
      "cell_type": "code",
      "source": [
        "df_fear = df[df[\"TURNFEAR\"] == 1]\n",
        "print(\"df_fear shape:\", df_fear.shape)\n",
        "df_fear.head()"
      ],
      "metadata": {
        "colab": {
          "base_uri": "https://localhost:8080/",
          "height": 273
        },
        "id": "75ivjONC6Z3z",
        "outputId": "47275f22-e3d7-4d69-d2c9-6229065e21d7"
      },
      "execution_count": 3,
      "outputs": [
        {
          "output_type": "stream",
          "name": "stdout",
          "text": [
            "df_fear shape: (3839, 356)\n"
          ]
        },
        {
          "output_type": "execute_result",
          "data": {
            "text/plain": [
              "    YY1  Y1          WGT  HHSEX  AGE  AGECL  EDUC  EDCL  MARRIED  KIDS  ...  \\\n",
              "20    5  51  7191.481109      2   19      1     8     2        1     0  ...   \n",
              "21    5  52  7352.487205      2   19      1     8     2        1     0  ...   \n",
              "22    5  53  7270.703541      2   19      1     8     2        1     0  ...   \n",
              "23    5  54  7383.866597      2   19      1     8     2        1     0  ...   \n",
              "24    5  55  7330.537669      2   19      1     8     2        1     0  ...   \n",
              "\n",
              "    NWCAT  INCCAT  ASSETCAT  NINCCAT  NINC2CAT  NWPCTLECAT  INCPCTLECAT  \\\n",
              "20      1       3         1        2         1           2            5   \n",
              "21      1       3         1        2         1           2            5   \n",
              "22      1       3         1        3         1           2            5   \n",
              "23      1       3         1        3         1           2            5   \n",
              "24      1       3         1        2         1           2            5   \n",
              "\n",
              "    NINCPCTLECAT  INCQRTCAT  NINCQRTCAT  \n",
              "20             4          2           2  \n",
              "21             4          2           2  \n",
              "22             5          2           2  \n",
              "23             5          2           2  \n",
              "24             4          2           2  \n",
              "\n",
              "[5 rows x 356 columns]"
            ],
            "text/html": [
              "\n",
              "  <div id=\"df-70915a7a-6420-47bf-9768-cb11c57ff967\" class=\"colab-df-container\">\n",
              "    <div>\n",
              "<style scoped>\n",
              "    .dataframe tbody tr th:only-of-type {\n",
              "        vertical-align: middle;\n",
              "    }\n",
              "\n",
              "    .dataframe tbody tr th {\n",
              "        vertical-align: top;\n",
              "    }\n",
              "\n",
              "    .dataframe thead th {\n",
              "        text-align: right;\n",
              "    }\n",
              "</style>\n",
              "<table border=\"1\" class=\"dataframe\">\n",
              "  <thead>\n",
              "    <tr style=\"text-align: right;\">\n",
              "      <th></th>\n",
              "      <th>YY1</th>\n",
              "      <th>Y1</th>\n",
              "      <th>WGT</th>\n",
              "      <th>HHSEX</th>\n",
              "      <th>AGE</th>\n",
              "      <th>AGECL</th>\n",
              "      <th>EDUC</th>\n",
              "      <th>EDCL</th>\n",
              "      <th>MARRIED</th>\n",
              "      <th>KIDS</th>\n",
              "      <th>...</th>\n",
              "      <th>NWCAT</th>\n",
              "      <th>INCCAT</th>\n",
              "      <th>ASSETCAT</th>\n",
              "      <th>NINCCAT</th>\n",
              "      <th>NINC2CAT</th>\n",
              "      <th>NWPCTLECAT</th>\n",
              "      <th>INCPCTLECAT</th>\n",
              "      <th>NINCPCTLECAT</th>\n",
              "      <th>INCQRTCAT</th>\n",
              "      <th>NINCQRTCAT</th>\n",
              "    </tr>\n",
              "  </thead>\n",
              "  <tbody>\n",
              "    <tr>\n",
              "      <th>20</th>\n",
              "      <td>5</td>\n",
              "      <td>51</td>\n",
              "      <td>7191.481109</td>\n",
              "      <td>2</td>\n",
              "      <td>19</td>\n",
              "      <td>1</td>\n",
              "      <td>8</td>\n",
              "      <td>2</td>\n",
              "      <td>1</td>\n",
              "      <td>0</td>\n",
              "      <td>...</td>\n",
              "      <td>1</td>\n",
              "      <td>3</td>\n",
              "      <td>1</td>\n",
              "      <td>2</td>\n",
              "      <td>1</td>\n",
              "      <td>2</td>\n",
              "      <td>5</td>\n",
              "      <td>4</td>\n",
              "      <td>2</td>\n",
              "      <td>2</td>\n",
              "    </tr>\n",
              "    <tr>\n",
              "      <th>21</th>\n",
              "      <td>5</td>\n",
              "      <td>52</td>\n",
              "      <td>7352.487205</td>\n",
              "      <td>2</td>\n",
              "      <td>19</td>\n",
              "      <td>1</td>\n",
              "      <td>8</td>\n",
              "      <td>2</td>\n",
              "      <td>1</td>\n",
              "      <td>0</td>\n",
              "      <td>...</td>\n",
              "      <td>1</td>\n",
              "      <td>3</td>\n",
              "      <td>1</td>\n",
              "      <td>2</td>\n",
              "      <td>1</td>\n",
              "      <td>2</td>\n",
              "      <td>5</td>\n",
              "      <td>4</td>\n",
              "      <td>2</td>\n",
              "      <td>2</td>\n",
              "    </tr>\n",
              "    <tr>\n",
              "      <th>22</th>\n",
              "      <td>5</td>\n",
              "      <td>53</td>\n",
              "      <td>7270.703541</td>\n",
              "      <td>2</td>\n",
              "      <td>19</td>\n",
              "      <td>1</td>\n",
              "      <td>8</td>\n",
              "      <td>2</td>\n",
              "      <td>1</td>\n",
              "      <td>0</td>\n",
              "      <td>...</td>\n",
              "      <td>1</td>\n",
              "      <td>3</td>\n",
              "      <td>1</td>\n",
              "      <td>3</td>\n",
              "      <td>1</td>\n",
              "      <td>2</td>\n",
              "      <td>5</td>\n",
              "      <td>5</td>\n",
              "      <td>2</td>\n",
              "      <td>2</td>\n",
              "    </tr>\n",
              "    <tr>\n",
              "      <th>23</th>\n",
              "      <td>5</td>\n",
              "      <td>54</td>\n",
              "      <td>7383.866597</td>\n",
              "      <td>2</td>\n",
              "      <td>19</td>\n",
              "      <td>1</td>\n",
              "      <td>8</td>\n",
              "      <td>2</td>\n",
              "      <td>1</td>\n",
              "      <td>0</td>\n",
              "      <td>...</td>\n",
              "      <td>1</td>\n",
              "      <td>3</td>\n",
              "      <td>1</td>\n",
              "      <td>3</td>\n",
              "      <td>1</td>\n",
              "      <td>2</td>\n",
              "      <td>5</td>\n",
              "      <td>5</td>\n",
              "      <td>2</td>\n",
              "      <td>2</td>\n",
              "    </tr>\n",
              "    <tr>\n",
              "      <th>24</th>\n",
              "      <td>5</td>\n",
              "      <td>55</td>\n",
              "      <td>7330.537669</td>\n",
              "      <td>2</td>\n",
              "      <td>19</td>\n",
              "      <td>1</td>\n",
              "      <td>8</td>\n",
              "      <td>2</td>\n",
              "      <td>1</td>\n",
              "      <td>0</td>\n",
              "      <td>...</td>\n",
              "      <td>1</td>\n",
              "      <td>3</td>\n",
              "      <td>1</td>\n",
              "      <td>2</td>\n",
              "      <td>1</td>\n",
              "      <td>2</td>\n",
              "      <td>5</td>\n",
              "      <td>4</td>\n",
              "      <td>2</td>\n",
              "      <td>2</td>\n",
              "    </tr>\n",
              "  </tbody>\n",
              "</table>\n",
              "<p>5 rows × 356 columns</p>\n",
              "</div>\n",
              "    <div class=\"colab-df-buttons\">\n",
              "\n",
              "  <div class=\"colab-df-container\">\n",
              "    <button class=\"colab-df-convert\" onclick=\"convertToInteractive('df-70915a7a-6420-47bf-9768-cb11c57ff967')\"\n",
              "            title=\"Convert this dataframe to an interactive table.\"\n",
              "            style=\"display:none;\">\n",
              "\n",
              "  <svg xmlns=\"http://www.w3.org/2000/svg\" height=\"24px\" viewBox=\"0 -960 960 960\">\n",
              "    <path d=\"M120-120v-720h720v720H120Zm60-500h600v-160H180v160Zm220 220h160v-160H400v160Zm0 220h160v-160H400v160ZM180-400h160v-160H180v160Zm440 0h160v-160H620v160ZM180-180h160v-160H180v160Zm440 0h160v-160H620v160Z\"/>\n",
              "  </svg>\n",
              "    </button>\n",
              "\n",
              "  <style>\n",
              "    .colab-df-container {\n",
              "      display:flex;\n",
              "      gap: 12px;\n",
              "    }\n",
              "\n",
              "    .colab-df-convert {\n",
              "      background-color: #E8F0FE;\n",
              "      border: none;\n",
              "      border-radius: 50%;\n",
              "      cursor: pointer;\n",
              "      display: none;\n",
              "      fill: #1967D2;\n",
              "      height: 32px;\n",
              "      padding: 0 0 0 0;\n",
              "      width: 32px;\n",
              "    }\n",
              "\n",
              "    .colab-df-convert:hover {\n",
              "      background-color: #E2EBFA;\n",
              "      box-shadow: 0px 1px 2px rgba(60, 64, 67, 0.3), 0px 1px 3px 1px rgba(60, 64, 67, 0.15);\n",
              "      fill: #174EA6;\n",
              "    }\n",
              "\n",
              "    .colab-df-buttons div {\n",
              "      margin-bottom: 4px;\n",
              "    }\n",
              "\n",
              "    [theme=dark] .colab-df-convert {\n",
              "      background-color: #3B4455;\n",
              "      fill: #D2E3FC;\n",
              "    }\n",
              "\n",
              "    [theme=dark] .colab-df-convert:hover {\n",
              "      background-color: #434B5C;\n",
              "      box-shadow: 0px 1px 3px 1px rgba(0, 0, 0, 0.15);\n",
              "      filter: drop-shadow(0px 1px 2px rgba(0, 0, 0, 0.3));\n",
              "      fill: #FFFFFF;\n",
              "    }\n",
              "  </style>\n",
              "\n",
              "    <script>\n",
              "      const buttonEl =\n",
              "        document.querySelector('#df-70915a7a-6420-47bf-9768-cb11c57ff967 button.colab-df-convert');\n",
              "      buttonEl.style.display =\n",
              "        google.colab.kernel.accessAllowed ? 'block' : 'none';\n",
              "\n",
              "      async function convertToInteractive(key) {\n",
              "        const element = document.querySelector('#df-70915a7a-6420-47bf-9768-cb11c57ff967');\n",
              "        const dataTable =\n",
              "          await google.colab.kernel.invokeFunction('convertToInteractive',\n",
              "                                                    [key], {});\n",
              "        if (!dataTable) return;\n",
              "\n",
              "        const docLinkHtml = 'Like what you see? Visit the ' +\n",
              "          '<a target=\"_blank\" href=https://colab.research.google.com/notebooks/data_table.ipynb>data table notebook</a>'\n",
              "          + ' to learn more about interactive tables.';\n",
              "        element.innerHTML = '';\n",
              "        dataTable['output_type'] = 'display_data';\n",
              "        await google.colab.output.renderOutput(dataTable, element);\n",
              "        const docLink = document.createElement('div');\n",
              "        docLink.innerHTML = docLinkHtml;\n",
              "        element.appendChild(docLink);\n",
              "      }\n",
              "    </script>\n",
              "  </div>\n",
              "\n",
              "\n",
              "<div id=\"df-b9f35633-8097-411a-97b3-bcfb6ff1cf73\">\n",
              "  <button class=\"colab-df-quickchart\" onclick=\"quickchart('df-b9f35633-8097-411a-97b3-bcfb6ff1cf73')\"\n",
              "            title=\"Suggest charts\"\n",
              "            style=\"display:none;\">\n",
              "\n",
              "<svg xmlns=\"http://www.w3.org/2000/svg\" height=\"24px\"viewBox=\"0 0 24 24\"\n",
              "     width=\"24px\">\n",
              "    <g>\n",
              "        <path d=\"M19 3H5c-1.1 0-2 .9-2 2v14c0 1.1.9 2 2 2h14c1.1 0 2-.9 2-2V5c0-1.1-.9-2-2-2zM9 17H7v-7h2v7zm4 0h-2V7h2v10zm4 0h-2v-4h2v4z\"/>\n",
              "    </g>\n",
              "</svg>\n",
              "  </button>\n",
              "\n",
              "<style>\n",
              "  .colab-df-quickchart {\n",
              "      --bg-color: #E8F0FE;\n",
              "      --fill-color: #1967D2;\n",
              "      --hover-bg-color: #E2EBFA;\n",
              "      --hover-fill-color: #174EA6;\n",
              "      --disabled-fill-color: #AAA;\n",
              "      --disabled-bg-color: #DDD;\n",
              "  }\n",
              "\n",
              "  [theme=dark] .colab-df-quickchart {\n",
              "      --bg-color: #3B4455;\n",
              "      --fill-color: #D2E3FC;\n",
              "      --hover-bg-color: #434B5C;\n",
              "      --hover-fill-color: #FFFFFF;\n",
              "      --disabled-bg-color: #3B4455;\n",
              "      --disabled-fill-color: #666;\n",
              "  }\n",
              "\n",
              "  .colab-df-quickchart {\n",
              "    background-color: var(--bg-color);\n",
              "    border: none;\n",
              "    border-radius: 50%;\n",
              "    cursor: pointer;\n",
              "    display: none;\n",
              "    fill: var(--fill-color);\n",
              "    height: 32px;\n",
              "    padding: 0;\n",
              "    width: 32px;\n",
              "  }\n",
              "\n",
              "  .colab-df-quickchart:hover {\n",
              "    background-color: var(--hover-bg-color);\n",
              "    box-shadow: 0 1px 2px rgba(60, 64, 67, 0.3), 0 1px 3px 1px rgba(60, 64, 67, 0.15);\n",
              "    fill: var(--button-hover-fill-color);\n",
              "  }\n",
              "\n",
              "  .colab-df-quickchart-complete:disabled,\n",
              "  .colab-df-quickchart-complete:disabled:hover {\n",
              "    background-color: var(--disabled-bg-color);\n",
              "    fill: var(--disabled-fill-color);\n",
              "    box-shadow: none;\n",
              "  }\n",
              "\n",
              "  .colab-df-spinner {\n",
              "    border: 2px solid var(--fill-color);\n",
              "    border-color: transparent;\n",
              "    border-bottom-color: var(--fill-color);\n",
              "    animation:\n",
              "      spin 1s steps(1) infinite;\n",
              "  }\n",
              "\n",
              "  @keyframes spin {\n",
              "    0% {\n",
              "      border-color: transparent;\n",
              "      border-bottom-color: var(--fill-color);\n",
              "      border-left-color: var(--fill-color);\n",
              "    }\n",
              "    20% {\n",
              "      border-color: transparent;\n",
              "      border-left-color: var(--fill-color);\n",
              "      border-top-color: var(--fill-color);\n",
              "    }\n",
              "    30% {\n",
              "      border-color: transparent;\n",
              "      border-left-color: var(--fill-color);\n",
              "      border-top-color: var(--fill-color);\n",
              "      border-right-color: var(--fill-color);\n",
              "    }\n",
              "    40% {\n",
              "      border-color: transparent;\n",
              "      border-right-color: var(--fill-color);\n",
              "      border-top-color: var(--fill-color);\n",
              "    }\n",
              "    60% {\n",
              "      border-color: transparent;\n",
              "      border-right-color: var(--fill-color);\n",
              "    }\n",
              "    80% {\n",
              "      border-color: transparent;\n",
              "      border-right-color: var(--fill-color);\n",
              "      border-bottom-color: var(--fill-color);\n",
              "    }\n",
              "    90% {\n",
              "      border-color: transparent;\n",
              "      border-bottom-color: var(--fill-color);\n",
              "    }\n",
              "  }\n",
              "</style>\n",
              "\n",
              "  <script>\n",
              "    async function quickchart(key) {\n",
              "      const quickchartButtonEl =\n",
              "        document.querySelector('#' + key + ' button');\n",
              "      quickchartButtonEl.disabled = true;  // To prevent multiple clicks.\n",
              "      quickchartButtonEl.classList.add('colab-df-spinner');\n",
              "      try {\n",
              "        const charts = await google.colab.kernel.invokeFunction(\n",
              "            'suggestCharts', [key], {});\n",
              "      } catch (error) {\n",
              "        console.error('Error during call to suggestCharts:', error);\n",
              "      }\n",
              "      quickchartButtonEl.classList.remove('colab-df-spinner');\n",
              "      quickchartButtonEl.classList.add('colab-df-quickchart-complete');\n",
              "    }\n",
              "    (() => {\n",
              "      let quickchartButtonEl =\n",
              "        document.querySelector('#df-b9f35633-8097-411a-97b3-bcfb6ff1cf73 button');\n",
              "      quickchartButtonEl.style.display =\n",
              "        google.colab.kernel.accessAllowed ? 'block' : 'none';\n",
              "    })();\n",
              "  </script>\n",
              "</div>\n",
              "    </div>\n",
              "  </div>\n"
            ]
          },
          "metadata": {},
          "execution_count": 3
        }
      ]
    },
    {
      "cell_type": "markdown",
      "source": [
        "## Data Exploration"
      ],
      "metadata": {
        "id": "1Sc3cehv6uZ9"
      }
    },
    {
      "cell_type": "markdown",
      "source": [
        "Exploring different features of the dataset:"
      ],
      "metadata": {
        "id": "ZecxP7Lu6xhe"
      }
    },
    {
      "cell_type": "markdown",
      "source": [
        "#### 1. RACE"
      ],
      "metadata": {
        "id": "SHgdGYPE64wZ"
      }
    },
    {
      "cell_type": "markdown",
      "source": [
        "In the [Code Book](https://sda.berkeley.edu/sdaweb/docs/scfcomb2022/DOC/hcbk.htm), we can see we have 3 possible race features:"
      ],
      "metadata": {
        "id": "bcFO_1xL66qy"
      }
    },
    {
      "cell_type": "markdown",
      "source": [
        "![](../image/race1.png)"
      ],
      "metadata": {
        "id": "M0HFRXQ76_lw"
      }
    },
    {
      "cell_type": "markdown",
      "source": [
        "For the purpose of this project, I'll be focusing on the RACE feature. Although as it can be seen it isn't a very inclusive description which is sometimes the issue of large\n",
        "![](../image/race.png)"
      ],
      "metadata": {
        "id": "uLdciDOg7JMV"
      }
    },
    {
      "cell_type": "markdown",
      "source": [
        "Reviewing further [documents](https://www.federalreserve.gov/econres/files/bulletin.macro.txt) on the SCF website shows '4' should be the 'Asian' race:\n",
        "![](../image/race2.png)"
      ],
      "metadata": {
        "id": "G3zKIFG47MkL"
      }
    },
    {
      "cell_type": "code",
      "source": [
        "race_dict = {\n",
        "    1: \"White/Non-Hispanic\",\n",
        "    2: \"Black/African-American\",\n",
        "    3: \"Hispanic\",\n",
        "    4: \"Asian\",\n",
        "    5: \"Other\",\n",
        "}\n",
        "race = df_fear[\"RACE\"].replace(race_dict)\n",
        "race_value_counts = race.value_counts(normalize=True)\n",
        "# Create bar chart of race_value_counts\n",
        "race_value_counts.plot(kind = \"barh\")\n",
        "\n",
        "plt.xlim((0, 1))\n",
        "plt.xlabel(\"Frequency (%)\")\n",
        "plt.ylabel(\"Race\")\n",
        "plt.title(\"Credit Fearful: Racial Groups\");"
      ],
      "metadata": {
        "colab": {
          "base_uri": "https://localhost:8080/",
          "height": 472
        },
        "id": "9Ff_1ZoZ6sOD",
        "outputId": "7573c566-e38e-489a-b9a4-cbdddea7d9a8"
      },
      "execution_count": 4,
      "outputs": [
        {
          "output_type": "display_data",
          "data": {
            "text/plain": [
              "<Figure size 640x480 with 1 Axes>"
            ],
            "image/png": "[encoded data removed]"
          },
          "metadata": {}
        }
      ]
    },
    {
      "cell_type": "code",
      "source": [
        "race_value_counts"
      ],
      "metadata": {
        "colab": {
          "base_uri": "https://localhost:8080/"
        },
        "id": "2QLT6DEc7OW6",
        "outputId": "f6c9da97-086b-45d8-dbca-d125e07a1262"
      },
      "execution_count": 5,
      "outputs": [
        {
          "output_type": "execute_result",
          "data": {
            "text/plain": [
              "White/Non-Hispanic        0.386559\n",
              "Black/African-American    0.337327\n",
              "Hispanic                  0.206043\n",
              "Asian                     0.050274\n",
              "Other                     0.019797\n",
              "Name: RACE, dtype: float64"
            ]
          },
          "metadata": {},
          "execution_count": 5
        }
      ]
    },
    {
      "cell_type": "markdown",
      "source": [
        "The diagram implies that White/Non-Hispanic individuals express higher levels of concern regarding credit denial. However, it's crucial to approach this observation with critical thinking. The apparent disparity might stem from the fact that White/Non-Hispanic individuals constitute a larger proportion of the United States population compared to other racial groups. It's essential to consider that the survey sample was intentionally drawn to reflect the demographic diversity of the entire population."
      ],
      "metadata": {
        "id": "6Oi6kyZ37SEd"
      }
    },
    {
      "cell_type": "code",
      "source": [
        "# Visualizing the race feature across the entire dataset.\n",
        "race = df[\"RACE\"].replace(race_dict)\n",
        "race_value_counts = race.value_counts(normalize=True)\n",
        "\n",
        "# Create bar chart of race_value_counts\n",
        "race_value_counts.plot(kind = \"barh\")\n",
        "\n",
        "plt.xlim((0, 1))\n",
        "plt.xlabel(\"Frequency (%)\")\n",
        "plt.ylabel(\"Race\")\n",
        "plt.title(\"SCF Respondents: Racial Groups\");"
      ],
      "metadata": {
        "colab": {
          "base_uri": "https://localhost:8080/",
          "height": 472
        },
        "id": "IqCLH0Gv7QMy",
        "outputId": "1fb223dc-e62b-4aef-cdef-ad114b2e0a02"
      },
      "execution_count": 6,
      "outputs": [
        {
          "output_type": "display_data",
          "data": {
            "text/plain": [
              "<Figure size 640x480 with 1 Axes>"
            ],
            "image/png": "[encoded data removed]"
          },
          "metadata": {}
        }
      ]
    },
    {
      "cell_type": "code",
      "source": [
        "race_value_counts"
      ],
      "metadata": {
        "colab": {
          "base_uri": "https://localhost:8080/"
        },
        "id": "9FXajmH77Tu8",
        "outputId": "82da789d-3f59-4897-8947-f0888a7673ea"
      },
      "execution_count": 7,
      "outputs": [
        {
          "output_type": "execute_result",
          "data": {
            "text/plain": [
              "White/Non-Hispanic        0.624548\n",
              "Black/African-American    0.152035\n",
              "Hispanic                  0.133841\n",
              "Asian                     0.077693\n",
              "Other                     0.011882\n",
              "Name: RACE, dtype: float64"
            ]
          },
          "metadata": {},
          "execution_count": 7
        }
      ]
    },
    {
      "cell_type": "markdown",
      "source": [
        "The data reveals that White/Non-Hispanics make up approximately 62% of the entire dataset, yet constitute only 39% of respondents expressing fear about credit. Conversely, Black and Hispanic respondents, comprising 28% of the overall dataset, represent 54% of those expressing credit-related concerns. In essence, Black and Hispanic households are statistically more likely to fall into the credit-fearful group."
      ],
      "metadata": {
        "id": "gNB3rimn7ZBQ"
      }
    },
    {
      "cell_type": "markdown",
      "source": [
        "It's crucial to emphasize that numbers are not inherently '*neutral*' and can perpetuate inequality. The disparities observed in the data, i.e the disproportionate representation of credit-fearful respondents among Black and Hispanic households, underscore the potential for numerical metrics to reflect and even reinforce societal imbalances. Analyzing data through a critical lens helps highlight these disparities and prompts a more nuanced understanding of the underlying social dynamics."
      ],
      "metadata": {
        "id": "ezUA62JZ7bV4"
      }
    },
    {
      "cell_type": "markdown",
      "source": [
        "### 2. Age"
      ],
      "metadata": {
        "id": "OX7VVCmQ7fc-"
      }
    },
    {
      "cell_type": "markdown",
      "source": [
        "In the [Code Book](https://sda.berkeley.edu/sdaweb/docs/scfcomb2022/DOC/hcbk.htm), we can see we have 2 possible age features:"
      ],
      "metadata": {
        "id": "xcNmAa3e7hX6"
      }
    },
    {
      "cell_type": "markdown",
      "source": [
        "![](../image/age2.png)"
      ],
      "metadata": {
        "id": "wbeor26L7l5r"
      }
    },
    {
      "cell_type": "markdown",
      "source": [
        "For this project, the AGECL feature would be utilized.\n",
        "![](../image/age.png)"
      ],
      "metadata": {
        "id": "goWRmVUO7rMw"
      }
    },
    {
      "cell_type": "code",
      "source": [
        "age_groups = df_fear[\"AGECL\"].unique()\n",
        "print(\"Age Groups:\", age_groups)"
      ],
      "metadata": {
        "colab": {
          "base_uri": "https://localhost:8080/"
        },
        "id": "w3TXDGLj7VOV",
        "outputId": "d4febbac-33fb-4213-ac1a-c90fbd8a0daa"
      },
      "execution_count": 8,
      "outputs": [
        {
          "output_type": "stream",
          "name": "stdout",
          "text": [
            "Age Groups: [1 4 2 3 5 6]\n"
          ]
        }
      ]
    },
    {
      "cell_type": "code",
      "source": [
        "agecl_dict = {\n",
        "    1: \"Under 35\",\n",
        "    2: \"35-44\",\n",
        "    3: \"45-54\",\n",
        "    4: \"55-64\",\n",
        "    5: \"65-74\",\n",
        "    6: \"75 or Older\",\n",
        "}\n",
        "\n",
        "age_cl = df_fear[\"AGECL\"].replace(agecl_dict)\n",
        "age_cl.value_counts()"
      ],
      "metadata": {
        "colab": {
          "base_uri": "https://localhost:8080/"
        },
        "id": "f_ttqDa7SYEh",
        "outputId": "f52b060d-1056-4d70-86a6-d7b8dd79dac7"
      },
      "execution_count": 9,
      "outputs": [
        {
          "output_type": "execute_result",
          "data": {
            "text/plain": [
              "35-44          936\n",
              "Under 35       917\n",
              "45-54          802\n",
              "55-64          682\n",
              "65-74          398\n",
              "75 or Older    104\n",
              "Name: AGECL, dtype: int64"
            ]
          },
          "metadata": {},
          "execution_count": 9
        }
      ]
    },
    {
      "cell_type": "code",
      "source": [
        "# Visualizing the age feature with a bar chart\n",
        "age_cl_value_counts = age_cl.value_counts()\n",
        "\n",
        "# Bar plot of `age_cl_value_counts`\n",
        "age_cl_value_counts.plot(\n",
        "    kind = \"bar\",\n",
        "    xlabel = \"Age Group\",\n",
        "    ylabel = \"Frequency (count)\",\n",
        "    title = \"Credit Fearful: Age Groups\"\n",
        ");\n"
      ],
      "metadata": {
        "colab": {
          "base_uri": "https://localhost:8080/",
          "height": 536
        },
        "id": "rBAl14YrSZin",
        "outputId": "a5e91b30-929f-4f0f-e056-8b79d526073b"
      },
      "execution_count": 10,
      "outputs": [
        {
          "output_type": "display_data",
          "data": {
            "text/plain": [
              "<Figure size 640x480 with 1 Axes>"
            ],
            "image/png": "[encoded data removed]"
          },
          "metadata": {}
        }
      ]
    },
    {
      "cell_type": "markdown",
      "source": [
        "The above diagram indicates that a significant portion of individuals concerned about credit denial falls within younger age groups. However, it's essential to consider that the first two age groups cover a broader range compared to the other four. To gain a more detailed insight into the data, it would be beneficial to explore the variable \"AGE\". Unlike \"AGECL\", which is a categorical variable, \"AGE\" is continuous, enabling us to create a histogram for a more granular examination of the data."
      ],
      "metadata": {
        "id": "V9QmhYo6Seqh"
      }
    },
    {
      "cell_type": "markdown",
      "source": [
        "![](../image/age1.png)"
      ],
      "metadata": {
        "id": "Bf_bxVx8Sk7Y"
      }
    },
    {
      "cell_type": "code",
      "source": [
        "# Plot histogram of \"AGE\"\n",
        "df_fear[\"AGE\"].hist(bins=10)\n",
        "\n",
        "plt.xlabel(\"Age\")\n",
        "plt.ylabel(\"Frequency (count)\")\n",
        "plt.title(\"Credit Fearful: Age Distribution\");"
      ],
      "metadata": {
        "colab": {
          "base_uri": "https://localhost:8080/",
          "height": 472
        },
        "id": "DRMc62FXSjOt",
        "outputId": "363e6597-c4bf-4c81-8fb8-fd7a74c183d7"
      },
      "execution_count": 11,
      "outputs": [
        {
          "output_type": "display_data",
          "data": {
            "text/plain": [
              "<Figure size 640x480 with 1 Axes>"
            ],
            "image/png": "[encoded data removed]"
          },
          "metadata": {}
        }
      ]
    },
    {
      "cell_type": "markdown",
      "source": [
        "It appears that younger individuals exhibit a higher level of concern regarding loan approval compared to their older counterparts. However, the most heightened level of concern appears to be concentrated among individuals aged between 40 and 60."
      ],
      "metadata": {
        "id": "RvDS9jnBSp8x"
      }
    },
    {
      "cell_type": "markdown",
      "source": [
        "### 3. Income"
      ],
      "metadata": {
        "id": "3FVSJ1bFSsOz"
      }
    },
    {
      "cell_type": "markdown",
      "source": [
        "In the [Code Book](https://sda.berkeley.edu/sdaweb/docs/scfcomb2022/DOC/hcbk.htm), there is an [Income Section](https://sda.berkeley.edu/sdaweb/docs/scfcomb2022/DOC/hcbk0007.htm#9.HEADING)"
      ],
      "metadata": {
        "id": "yF-8X8UlSukJ"
      }
    },
    {
      "cell_type": "markdown",
      "source": [
        "To explore the relationship between income and the fear of credit denial, the \"INCCAT\" feature will be utilized. This feature  captures income percentile groups."
      ],
      "metadata": {
        "id": "iSrsoZ_NSweo"
      }
    },
    {
      "cell_type": "markdown",
      "source": [
        "![](../image/income.png)"
      ],
      "metadata": {
        "id": "8jQUcRF4Sy0d"
      }
    },
    {
      "cell_type": "code",
      "source": [
        "df[\"INCCAT\"].value_counts(normalize = True)"
      ],
      "metadata": {
        "colab": {
          "base_uri": "https://localhost:8080/"
        },
        "id": "ckZw4uxmSn0r",
        "outputId": "86c2761d-c491-46b5-b5fa-bb5dd54b7846"
      },
      "execution_count": 12,
      "outputs": [
        {
          "output_type": "execute_result",
          "data": {
            "text/plain": [
              "6    0.258847\n",
              "1    0.173580\n",
              "2    0.160435\n",
              "3    0.154603\n",
              "4    0.153993\n",
              "5    0.098542\n",
              "Name: INCCAT, dtype: float64"
            ]
          },
          "metadata": {},
          "execution_count": 12
        }
      ]
    },
    {
      "cell_type": "code",
      "source": [
        "inccat_dict = {\n",
        "    1: \"0-20\",\n",
        "    2: \"21-39.9\",\n",
        "    3: \"40-59.9\",\n",
        "    4: \"60-79.9\",\n",
        "    5: \"80-89.9\",\n",
        "    6: \"90-100\",\n",
        "}\n",
        "\n",
        "df_inccat = (\n",
        "    df[\"INCCAT\"]\n",
        "    .replace(inccat_dict)\n",
        "    .groupby(df[\"TURNFEAR\"])\n",
        "    .value_counts(normalize = True)\n",
        "    .rename(\"frequency\")\n",
        "    .to_frame()\n",
        "    .reset_index()\n",
        ")\n",
        "\n",
        "df_inccat"
      ],
      "metadata": {
        "colab": {
          "base_uri": "https://localhost:8080/",
          "height": 426
        },
        "id": "nYPSXvArS0t5",
        "outputId": "e363f4da-9b23-44d6-d060-85c4df348299"
      },
      "execution_count": 13,
      "outputs": [
        {
          "output_type": "execute_result",
          "data": {
            "text/plain": [
              "    TURNFEAR   INCCAT  frequency\n",
              "0          0   90-100   0.303982\n",
              "1          0  60-79.9   0.162312\n",
              "2          0  40-59.9   0.144492\n",
              "3          0     0-20   0.140050\n",
              "4          0  21-39.9   0.139162\n",
              "5          0  80-89.9   0.110002\n",
              "6          1     0-20   0.340714\n",
              "7          1  21-39.9   0.266476\n",
              "8          1  40-59.9   0.205001\n",
              "9          1  60-79.9   0.112529\n",
              "10         1  80-89.9   0.041417\n",
              "11         1   90-100   0.033863"
            ],
            "text/html": [
              "\n",
              "  <div id=\"df-fc43f9df-60de-40a6-a8b4-2651a2db2c65\" class=\"colab-df-container\">\n",
              "    <div>\n",
              "<style scoped>\n",
              "    .dataframe tbody tr th:only-of-type {\n",
              "        vertical-align: middle;\n",
              "    }\n",
              "\n",
              "    .dataframe tbody tr th {\n",
              "        vertical-align: top;\n",
              "    }\n",
              "\n",
              "    .dataframe thead th {\n",
              "        text-align: right;\n",
              "    }\n",
              "</style>\n",
              "<table border=\"1\" class=\"dataframe\">\n",
              "  <thead>\n",
              "    <tr style=\"text-align: right;\">\n",
              "      <th></th>\n",
              "      <th>TURNFEAR</th>\n",
              "      <th>INCCAT</th>\n",
              "      <th>frequency</th>\n",
              "    </tr>\n",
              "  </thead>\n",
              "  <tbody>\n",
              "    <tr>\n",
              "      <th>0</th>\n",
              "      <td>0</td>\n",
              "      <td>90-100</td>\n",
              "      <td>0.303982</td>\n",
              "    </tr>\n",
              "    <tr>\n",
              "      <th>1</th>\n",
              "      <td>0</td>\n",
              "      <td>60-79.9</td>\n",
              "      <td>0.162312</td>\n",
              "    </tr>\n",
              "    <tr>\n",
              "      <th>2</th>\n",
              "      <td>0</td>\n",
              "      <td>40-59.9</td>\n",
              "      <td>0.144492</td>\n",
              "    </tr>\n",
              "    <tr>\n",
              "      <th>3</th>\n",
              "      <td>0</td>\n",
              "      <td>0-20</td>\n",
              "      <td>0.140050</td>\n",
              "    </tr>\n",
              "    <tr>\n",
              "      <th>4</th>\n",
              "      <td>0</td>\n",
              "      <td>21-39.9</td>\n",
              "      <td>0.139162</td>\n",
              "    </tr>\n",
              "    <tr>\n",
              "      <th>5</th>\n",
              "      <td>0</td>\n",
              "      <td>80-89.9</td>\n",
              "      <td>0.110002</td>\n",
              "    </tr>\n",
              "    <tr>\n",
              "      <th>6</th>\n",
              "      <td>1</td>\n",
              "      <td>0-20</td>\n",
              "      <td>0.340714</td>\n",
              "    </tr>\n",
              "    <tr>\n",
              "      <th>7</th>\n",
              "      <td>1</td>\n",
              "      <td>21-39.9</td>\n",
              "      <td>0.266476</td>\n",
              "    </tr>\n",
              "    <tr>\n",
              "      <th>8</th>\n",
              "      <td>1</td>\n",
              "      <td>40-59.9</td>\n",
              "      <td>0.205001</td>\n",
              "    </tr>\n",
              "    <tr>\n",
              "      <th>9</th>\n",
              "      <td>1</td>\n",
              "      <td>60-79.9</td>\n",
              "      <td>0.112529</td>\n",
              "    </tr>\n",
              "    <tr>\n",
              "      <th>10</th>\n",
              "      <td>1</td>\n",
              "      <td>80-89.9</td>\n",
              "      <td>0.041417</td>\n",
              "    </tr>\n",
              "    <tr>\n",
              "      <th>11</th>\n",
              "      <td>1</td>\n",
              "      <td>90-100</td>\n",
              "      <td>0.033863</td>\n",
              "    </tr>\n",
              "  </tbody>\n",
              "</table>\n",
              "</div>\n",
              "    <div class=\"colab-df-buttons\">\n",
              "\n",
              "  <div class=\"colab-df-container\">\n",
              "    <button class=\"colab-df-convert\" onclick=\"convertToInteractive('df-fc43f9df-60de-40a6-a8b4-2651a2db2c65')\"\n",
              "            title=\"Convert this dataframe to an interactive table.\"\n",
              "            style=\"display:none;\">\n",
              "\n",
              "  <svg xmlns=\"http://www.w3.org/2000/svg\" height=\"24px\" viewBox=\"0 -960 960 960\">\n",
              "    <path d=\"M120-120v-720h720v720H120Zm60-500h600v-160H180v160Zm220 220h160v-160H400v160Zm0 220h160v-160H400v160ZM180-400h160v-160H180v160Zm440 0h160v-160H620v160ZM180-180h160v-160H180v160Zm440 0h160v-160H620v160Z\"/>\n",
              "  </svg>\n",
              "    </button>\n",
              "\n",
              "  <style>\n",
              "    .colab-df-container {\n",
              "      display:flex;\n",
              "      gap: 12px;\n",
              "    }\n",
              "\n",
              "    .colab-df-convert {\n",
              "      background-color: #E8F0FE;\n",
              "      border: none;\n",
              "      border-radius: 50%;\n",
              "      cursor: pointer;\n",
              "      display: none;\n",
              "      fill: #1967D2;\n",
              "      height: 32px;\n",
              "      padding: 0 0 0 0;\n",
              "      width: 32px;\n",
              "    }\n",
              "\n",
              "    .colab-df-convert:hover {\n",
              "      background-color: #E2EBFA;\n",
              "      box-shadow: 0px 1px 2px rgba(60, 64, 67, 0.3), 0px 1px 3px 1px rgba(60, 64, 67, 0.15);\n",
              "      fill: #174EA6;\n",
              "    }\n",
              "\n",
              "    .colab-df-buttons div {\n",
              "      margin-bottom: 4px;\n",
              "    }\n",
              "\n",
              "    [theme=dark] .colab-df-convert {\n",
              "      background-color: #3B4455;\n",
              "      fill: #D2E3FC;\n",
              "    }\n",
              "\n",
              "    [theme=dark] .colab-df-convert:hover {\n",
              "      background-color: #434B5C;\n",
              "      box-shadow: 0px 1px 3px 1px rgba(0, 0, 0, 0.15);\n",
              "      filter: drop-shadow(0px 1px 2px rgba(0, 0, 0, 0.3));\n",
              "      fill: #FFFFFF;\n",
              "    }\n",
              "  </style>\n",
              "\n",
              "    <script>\n",
              "      const buttonEl =\n",
              "        document.querySelector('#df-fc43f9df-60de-40a6-a8b4-2651a2db2c65 button.colab-df-convert');\n",
              "      buttonEl.style.display =\n",
              "        google.colab.kernel.accessAllowed ? 'block' : 'none';\n",
              "\n",
              "      async function convertToInteractive(key) {\n",
              "        const element = document.querySelector('#df-fc43f9df-60de-40a6-a8b4-2651a2db2c65');\n",
              "        const dataTable =\n",
              "          await google.colab.kernel.invokeFunction('convertToInteractive',\n",
              "                                                    [key], {});\n",
              "        if (!dataTable) return;\n",
              "\n",
              "        const docLinkHtml = 'Like what you see? Visit the ' +\n",
              "          '<a target=\"_blank\" href=https://colab.research.google.com/notebooks/data_table.ipynb>data table notebook</a>'\n",
              "          + ' to learn more about interactive tables.';\n",
              "        element.innerHTML = '';\n",
              "        dataTable['output_type'] = 'display_data';\n",
              "        await google.colab.output.renderOutput(dataTable, element);\n",
              "        const docLink = document.createElement('div');\n",
              "        docLink.innerHTML = docLinkHtml;\n",
              "        element.appendChild(docLink);\n",
              "      }\n",
              "    </script>\n",
              "  </div>\n",
              "\n",
              "\n",
              "<div id=\"df-04c2a6d1-c5be-41c4-90db-30e95da3f4ea\">\n",
              "  <button class=\"colab-df-quickchart\" onclick=\"quickchart('df-04c2a6d1-c5be-41c4-90db-30e95da3f4ea')\"\n",
              "            title=\"Suggest charts\"\n",
              "            style=\"display:none;\">\n",
              "\n",
              "<svg xmlns=\"http://www.w3.org/2000/svg\" height=\"24px\"viewBox=\"0 0 24 24\"\n",
              "     width=\"24px\">\n",
              "    <g>\n",
              "        <path d=\"M19 3H5c-1.1 0-2 .9-2 2v14c0 1.1.9 2 2 2h14c1.1 0 2-.9 2-2V5c0-1.1-.9-2-2-2zM9 17H7v-7h2v7zm4 0h-2V7h2v10zm4 0h-2v-4h2v4z\"/>\n",
              "    </g>\n",
              "</svg>\n",
              "  </button>\n",
              "\n",
              "<style>\n",
              "  .colab-df-quickchart {\n",
              "      --bg-color: #E8F0FE;\n",
              "      --fill-color: #1967D2;\n",
              "      --hover-bg-color: #E2EBFA;\n",
              "      --hover-fill-color: #174EA6;\n",
              "      --disabled-fill-color: #AAA;\n",
              "      --disabled-bg-color: #DDD;\n",
              "  }\n",
              "\n",
              "  [theme=dark] .colab-df-quickchart {\n",
              "      --bg-color: #3B4455;\n",
              "      --fill-color: #D2E3FC;\n",
              "      --hover-bg-color: #434B5C;\n",
              "      --hover-fill-color: #FFFFFF;\n",
              "      --disabled-bg-color: #3B4455;\n",
              "      --disabled-fill-color: #666;\n",
              "  }\n",
              "\n",
              "  .colab-df-quickchart {\n",
              "    background-color: var(--bg-color);\n",
              "    border: none;\n",
              "    border-radius: 50%;\n",
              "    cursor: pointer;\n",
              "    display: none;\n",
              "    fill: var(--fill-color);\n",
              "    height: 32px;\n",
              "    padding: 0;\n",
              "    width: 32px;\n",
              "  }\n",
              "\n",
              "  .colab-df-quickchart:hover {\n",
              "    background-color: var(--hover-bg-color);\n",
              "    box-shadow: 0 1px 2px rgba(60, 64, 67, 0.3), 0 1px 3px 1px rgba(60, 64, 67, 0.15);\n",
              "    fill: var(--button-hover-fill-color);\n",
              "  }\n",
              "\n",
              "  .colab-df-quickchart-complete:disabled,\n",
              "  .colab-df-quickchart-complete:disabled:hover {\n",
              "    background-color: var(--disabled-bg-color);\n",
              "    fill: var(--disabled-fill-color);\n",
              "    box-shadow: none;\n",
              "  }\n",
              "\n",
              "  .colab-df-spinner {\n",
              "    border: 2px solid var(--fill-color);\n",
              "    border-color: transparent;\n",
              "    border-bottom-color: var(--fill-color);\n",
              "    animation:\n",
              "      spin 1s steps(1) infinite;\n",
              "  }\n",
              "\n",
              "  @keyframes spin {\n",
              "    0% {\n",
              "      border-color: transparent;\n",
              "      border-bottom-color: var(--fill-color);\n",
              "      border-left-color: var(--fill-color);\n",
              "    }\n",
              "    20% {\n",
              "      border-color: transparent;\n",
              "      border-left-color: var(--fill-color);\n",
              "      border-top-color: var(--fill-color);\n",
              "    }\n",
              "    30% {\n",
              "      border-color: transparent;\n",
              "      border-left-color: var(--fill-color);\n",
              "      border-top-color: var(--fill-color);\n",
              "      border-right-color: var(--fill-color);\n",
              "    }\n",
              "    40% {\n",
              "      border-color: transparent;\n",
              "      border-right-color: var(--fill-color);\n",
              "      border-top-color: var(--fill-color);\n",
              "    }\n",
              "    60% {\n",
              "      border-color: transparent;\n",
              "      border-right-color: var(--fill-color);\n",
              "    }\n",
              "    80% {\n",
              "      border-color: transparent;\n",
              "      border-right-color: var(--fill-color);\n",
              "      border-bottom-color: var(--fill-color);\n",
              "    }\n",
              "    90% {\n",
              "      border-color: transparent;\n",
              "      border-bottom-color: var(--fill-color);\n",
              "    }\n",
              "  }\n",
              "</style>\n",
              "\n",
              "  <script>\n",
              "    async function quickchart(key) {\n",
              "      const quickchartButtonEl =\n",
              "        document.querySelector('#' + key + ' button');\n",
              "      quickchartButtonEl.disabled = true;  // To prevent multiple clicks.\n",
              "      quickchartButtonEl.classList.add('colab-df-spinner');\n",
              "      try {\n",
              "        const charts = await google.colab.kernel.invokeFunction(\n",
              "            'suggestCharts', [key], {});\n",
              "      } catch (error) {\n",
              "        console.error('Error during call to suggestCharts:', error);\n",
              "      }\n",
              "      quickchartButtonEl.classList.remove('colab-df-spinner');\n",
              "      quickchartButtonEl.classList.add('colab-df-quickchart-complete');\n",
              "    }\n",
              "    (() => {\n",
              "      let quickchartButtonEl =\n",
              "        document.querySelector('#df-04c2a6d1-c5be-41c4-90db-30e95da3f4ea button');\n",
              "      quickchartButtonEl.style.display =\n",
              "        google.colab.kernel.accessAllowed ? 'block' : 'none';\n",
              "    })();\n",
              "  </script>\n",
              "</div>\n",
              "    </div>\n",
              "  </div>\n"
            ]
          },
          "metadata": {},
          "execution_count": 13
        }
      ]
    },
    {
      "cell_type": "code",
      "source": [
        "# Create bar chart of `df_inccat`\n",
        "sns.barplot(\n",
        "    x = \"INCCAT\",\n",
        "    y = \"frequency\",\n",
        "    hue = \"TURNFEAR\",\n",
        "    data = df_inccat,\n",
        "    order = inccat_dict.values()\n",
        ")\n",
        "\n",
        "plt.xlabel(\"Income Category\")\n",
        "plt.ylabel(\"Frequency (%)\")\n",
        "plt.title(\"Income Distribution: Credit Fearful vs. Non-fearful\");"
      ],
      "metadata": {
        "colab": {
          "base_uri": "https://localhost:8080/",
          "height": 472
        },
        "id": "BNAkA1ziS15V",
        "outputId": "0d7303b7-96fe-4d9c-fce9-c3d828a97940"
      },
      "execution_count": 14,
      "outputs": [
        {
          "output_type": "display_data",
          "data": {
            "text/plain": [
              "<Figure size 640x480 with 1 Axes>"
            ],
            "image/png": "[encoded data removed]"
          },
          "metadata": {}
        }
      ]
    },
    {
      "cell_type": "markdown",
      "source": [
        "Comparing income categories between the groups expressing credit fear and those without such concerns reveals a notable prevalence of credit fearful households in the lower income brackets. In simpler terms, individuals experiencing credit anxiety tend to have lower incomes.\n",
        "\n",
        "It can then be assumed that among respondents who expressed apprehension about credit approval following recent denials within the past five years, the majority belonged to the younger age group and lower-income brackets. This aligns with expectations, as younger individuals typically earn less and often heavily depend on credit to establish their lives. Consequently, being denied credit heightens their anxiety about future financial prospects."
      ],
      "metadata": {
        "id": "diwsPHdyS_w6"
      }
    },
    {
      "cell_type": "markdown",
      "source": [
        "### 4. Education"
      ],
      "metadata": {
        "id": "ppe03byqTB-t"
      }
    },
    {
      "cell_type": "markdown",
      "source": [
        "Comparing the education of Fearful and Non-Fearful groups:\n",
        "\n",
        "![](../image/income.png)"
      ],
      "metadata": {
        "id": "uN-zvg6rTD_N"
      }
    },
    {
      "cell_type": "code",
      "source": [
        "df_educ = (\n",
        "    df[\"EDUC\"]\n",
        "    .groupby(df[\"TURNFEAR\"])\n",
        "    .value_counts(normalize=True)\n",
        "    .rename(\"frequency\")\n",
        "    .to_frame()\n",
        "    .reset_index()\n",
        ")\n",
        "df_educ"
      ],
      "metadata": {
        "colab": {
          "base_uri": "https://localhost:8080/",
          "height": 990
        },
        "id": "AHxTSBkLS3xx",
        "outputId": "28c84351-5043-4808-857b-d308819958b1"
      },
      "execution_count": 15,
      "outputs": [
        {
          "output_type": "execute_result",
          "data": {
            "text/plain": [
              "    TURNFEAR  EDUC  frequency\n",
              "0          0    12   0.278689\n",
              "1          0     8   0.174383\n",
              "2          0    13   0.158967\n",
              "3          0     9   0.111727\n",
              "4          0    14   0.108539\n",
              "5          0    10   0.049122\n",
              "6          0    11   0.041283\n",
              "7          0     7   0.016722\n",
              "8          0     6   0.012176\n",
              "9          0     4   0.010974\n",
              "10         0     5   0.010347\n",
              "11         0     2   0.010190\n",
              "12         0     3   0.008884\n",
              "13         0     1   0.005383\n",
              "14         0    -1   0.002613\n",
              "15         1     8   0.308674\n",
              "16         1     9   0.183381\n",
              "17         1    12   0.149779\n",
              "18         1    13   0.072936\n",
              "19         1    10   0.055223\n",
              "20         1     6   0.042198\n",
              "21         1    11   0.040375\n",
              "22         1     7   0.039333\n",
              "23         1     4   0.025007\n",
              "24         1     5   0.022662\n",
              "25         1     2   0.018234\n",
              "26         1     3   0.015890\n",
              "27         1    14   0.015890\n",
              "28         1     1   0.007815\n",
              "29         1    -1   0.002605"
            ],
            "text/html": [
              "\n",
              "  <div id=\"df-f6ea723e-8bd3-444a-872c-2c6e1bb087d2\" class=\"colab-df-container\">\n",
              "    <div>\n",
              "<style scoped>\n",
              "    .dataframe tbody tr th:only-of-type {\n",
              "        vertical-align: middle;\n",
              "    }\n",
              "\n",
              "    .dataframe tbody tr th {\n",
              "        vertical-align: top;\n",
              "    }\n",
              "\n",
              "    .dataframe thead th {\n",
              "        text-align: right;\n",
              "    }\n",
              "</style>\n",
              "<table border=\"1\" class=\"dataframe\">\n",
              "  <thead>\n",
              "    <tr style=\"text-align: right;\">\n",
              "      <th></th>\n",
              "      <th>TURNFEAR</th>\n",
              "      <th>EDUC</th>\n",
              "      <th>frequency</th>\n",
              "    </tr>\n",
              "  </thead>\n",
              "  <tbody>\n",
              "    <tr>\n",
              "      <th>0</th>\n",
              "      <td>0</td>\n",
              "      <td>12</td>\n",
              "      <td>0.278689</td>\n",
              "    </tr>\n",
              "    <tr>\n",
              "      <th>1</th>\n",
              "      <td>0</td>\n",
              "      <td>8</td>\n",
              "      <td>0.174383</td>\n",
              "    </tr>\n",
              "    <tr>\n",
              "      <th>2</th>\n",
              "      <td>0</td>\n",
              "      <td>13</td>\n",
              "      <td>0.158967</td>\n",
              "    </tr>\n",
              "    <tr>\n",
              "      <th>3</th>\n",
              "      <td>0</td>\n",
              "      <td>9</td>\n",
              "      <td>0.111727</td>\n",
              "    </tr>\n",
              "    <tr>\n",
              "      <th>4</th>\n",
              "      <td>0</td>\n",
              "      <td>14</td>\n",
              "      <td>0.108539</td>\n",
              "    </tr>\n",
              "    <tr>\n",
              "      <th>5</th>\n",
              "      <td>0</td>\n",
              "      <td>10</td>\n",
              "      <td>0.049122</td>\n",
              "    </tr>\n",
              "    <tr>\n",
              "      <th>6</th>\n",
              "      <td>0</td>\n",
              "      <td>11</td>\n",
              "      <td>0.041283</td>\n",
              "    </tr>\n",
              "    <tr>\n",
              "      <th>7</th>\n",
              "      <td>0</td>\n",
              "      <td>7</td>\n",
              "      <td>0.016722</td>\n",
              "    </tr>\n",
              "    <tr>\n",
              "      <th>8</th>\n",
              "      <td>0</td>\n",
              "      <td>6</td>\n",
              "      <td>0.012176</td>\n",
              "    </tr>\n",
              "    <tr>\n",
              "      <th>9</th>\n",
              "      <td>0</td>\n",
              "      <td>4</td>\n",
              "      <td>0.010974</td>\n",
              "    </tr>\n",
              "    <tr>\n",
              "      <th>10</th>\n",
              "      <td>0</td>\n",
              "      <td>5</td>\n",
              "      <td>0.010347</td>\n",
              "    </tr>\n",
              "    <tr>\n",
              "      <th>11</th>\n",
              "      <td>0</td>\n",
              "      <td>2</td>\n",
              "      <td>0.010190</td>\n",
              "    </tr>\n",
              "    <tr>\n",
              "      <th>12</th>\n",
              "      <td>0</td>\n",
              "      <td>3</td>\n",
              "      <td>0.008884</td>\n",
              "    </tr>\n",
              "    <tr>\n",
              "      <th>13</th>\n",
              "      <td>0</td>\n",
              "      <td>1</td>\n",
              "      <td>0.005383</td>\n",
              "    </tr>\n",
              "    <tr>\n",
              "      <th>14</th>\n",
              "      <td>0</td>\n",
              "      <td>-1</td>\n",
              "      <td>0.002613</td>\n",
              "    </tr>\n",
              "    <tr>\n",
              "      <th>15</th>\n",
              "      <td>1</td>\n",
              "      <td>8</td>\n",
              "      <td>0.308674</td>\n",
              "    </tr>\n",
              "    <tr>\n",
              "      <th>16</th>\n",
              "      <td>1</td>\n",
              "      <td>9</td>\n",
              "      <td>0.183381</td>\n",
              "    </tr>\n",
              "    <tr>\n",
              "      <th>17</th>\n",
              "      <td>1</td>\n",
              "      <td>12</td>\n",
              "      <td>0.149779</td>\n",
              "    </tr>\n",
              "    <tr>\n",
              "      <th>18</th>\n",
              "      <td>1</td>\n",
              "      <td>13</td>\n",
              "      <td>0.072936</td>\n",
              "    </tr>\n",
              "    <tr>\n",
              "      <th>19</th>\n",
              "      <td>1</td>\n",
              "      <td>10</td>\n",
              "      <td>0.055223</td>\n",
              "    </tr>\n",
              "    <tr>\n",
              "      <th>20</th>\n",
              "      <td>1</td>\n",
              "      <td>6</td>\n",
              "      <td>0.042198</td>\n",
              "    </tr>\n",
              "    <tr>\n",
              "      <th>21</th>\n",
              "      <td>1</td>\n",
              "      <td>11</td>\n",
              "      <td>0.040375</td>\n",
              "    </tr>\n",
              "    <tr>\n",
              "      <th>22</th>\n",
              "      <td>1</td>\n",
              "      <td>7</td>\n",
              "      <td>0.039333</td>\n",
              "    </tr>\n",
              "    <tr>\n",
              "      <th>23</th>\n",
              "      <td>1</td>\n",
              "      <td>4</td>\n",
              "      <td>0.025007</td>\n",
              "    </tr>\n",
              "    <tr>\n",
              "      <th>24</th>\n",
              "      <td>1</td>\n",
              "      <td>5</td>\n",
              "      <td>0.022662</td>\n",
              "    </tr>\n",
              "    <tr>\n",
              "      <th>25</th>\n",
              "      <td>1</td>\n",
              "      <td>2</td>\n",
              "      <td>0.018234</td>\n",
              "    </tr>\n",
              "    <tr>\n",
              "      <th>26</th>\n",
              "      <td>1</td>\n",
              "      <td>3</td>\n",
              "      <td>0.015890</td>\n",
              "    </tr>\n",
              "    <tr>\n",
              "      <th>27</th>\n",
              "      <td>1</td>\n",
              "      <td>14</td>\n",
              "      <td>0.015890</td>\n",
              "    </tr>\n",
              "    <tr>\n",
              "      <th>28</th>\n",
              "      <td>1</td>\n",
              "      <td>1</td>\n",
              "      <td>0.007815</td>\n",
              "    </tr>\n",
              "    <tr>\n",
              "      <th>29</th>\n",
              "      <td>1</td>\n",
              "      <td>-1</td>\n",
              "      <td>0.002605</td>\n",
              "    </tr>\n",
              "  </tbody>\n",
              "</table>\n",
              "</div>\n",
              "    <div class=\"colab-df-buttons\">\n",
              "\n",
              "  <div class=\"colab-df-container\">\n",
              "    <button class=\"colab-df-convert\" onclick=\"convertToInteractive('df-f6ea723e-8bd3-444a-872c-2c6e1bb087d2')\"\n",
              "            title=\"Convert this dataframe to an interactive table.\"\n",
              "            style=\"display:none;\">\n",
              "\n",
              "  <svg xmlns=\"http://www.w3.org/2000/svg\" height=\"24px\" viewBox=\"0 -960 960 960\">\n",
              "    <path d=\"M120-120v-720h720v720H120Zm60-500h600v-160H180v160Zm220 220h160v-160H400v160Zm0 220h160v-160H400v160ZM180-400h160v-160H180v160Zm440 0h160v-160H620v160ZM180-180h160v-160H180v160Zm440 0h160v-160H620v160Z\"/>\n",
              "  </svg>\n",
              "    </button>\n",
              "\n",
              "  <style>\n",
              "    .colab-df-container {\n",
              "      display:flex;\n",
              "      gap: 12px;\n",
              "    }\n",
              "\n",
              "    .colab-df-convert {\n",
              "      background-color: #E8F0FE;\n",
              "      border: none;\n",
              "      border-radius: 50%;\n",
              "      cursor: pointer;\n",
              "      display: none;\n",
              "      fill: #1967D2;\n",
              "      height: 32px;\n",
              "      padding: 0 0 0 0;\n",
              "      width: 32px;\n",
              "    }\n",
              "\n",
              "    .colab-df-convert:hover {\n",
              "      background-color: #E2EBFA;\n",
              "      box-shadow: 0px 1px 2px rgba(60, 64, 67, 0.3), 0px 1px 3px 1px rgba(60, 64, 67, 0.15);\n",
              "      fill: #174EA6;\n",
              "    }\n",
              "\n",
              "    .colab-df-buttons div {\n",
              "      margin-bottom: 4px;\n",
              "    }\n",
              "\n",
              "    [theme=dark] .colab-df-convert {\n",
              "      background-color: #3B4455;\n",
              "      fill: #D2E3FC;\n",
              "    }\n",
              "\n",
              "    [theme=dark] .colab-df-convert:hover {\n",
              "      background-color: #434B5C;\n",
              "      box-shadow: 0px 1px 3px 1px rgba(0, 0, 0, 0.15);\n",
              "      filter: drop-shadow(0px 1px 2px rgba(0, 0, 0, 0.3));\n",
              "      fill: #FFFFFF;\n",
              "    }\n",
              "  </style>\n",
              "\n",
              "    <script>\n",
              "      const buttonEl =\n",
              "        document.querySelector('#df-f6ea723e-8bd3-444a-872c-2c6e1bb087d2 button.colab-df-convert');\n",
              "      buttonEl.style.display =\n",
              "        google.colab.kernel.accessAllowed ? 'block' : 'none';\n",
              "\n",
              "      async function convertToInteractive(key) {\n",
              "        const element = document.querySelector('#df-f6ea723e-8bd3-444a-872c-2c6e1bb087d2');\n",
              "        const dataTable =\n",
              "          await google.colab.kernel.invokeFunction('convertToInteractive',\n",
              "                                                    [key], {});\n",
              "        if (!dataTable) return;\n",
              "\n",
              "        const docLinkHtml = 'Like what you see? Visit the ' +\n",
              "          '<a target=\"_blank\" href=https://colab.research.google.com/notebooks/data_table.ipynb>data table notebook</a>'\n",
              "          + ' to learn more about interactive tables.';\n",
              "        element.innerHTML = '';\n",
              "        dataTable['output_type'] = 'display_data';\n",
              "        await google.colab.output.renderOutput(dataTable, element);\n",
              "        const docLink = document.createElement('div');\n",
              "        docLink.innerHTML = docLinkHtml;\n",
              "        element.appendChild(docLink);\n",
              "      }\n",
              "    </script>\n",
              "  </div>\n",
              "\n",
              "\n",
              "<div id=\"df-e73f2569-3cf6-4475-ab2e-9848729a914a\">\n",
              "  <button class=\"colab-df-quickchart\" onclick=\"quickchart('df-e73f2569-3cf6-4475-ab2e-9848729a914a')\"\n",
              "            title=\"Suggest charts\"\n",
              "            style=\"display:none;\">\n",
              "\n",
              "<svg xmlns=\"http://www.w3.org/2000/svg\" height=\"24px\"viewBox=\"0 0 24 24\"\n",
              "     width=\"24px\">\n",
              "    <g>\n",
              "        <path d=\"M19 3H5c-1.1 0-2 .9-2 2v14c0 1.1.9 2 2 2h14c1.1 0 2-.9 2-2V5c0-1.1-.9-2-2-2zM9 17H7v-7h2v7zm4 0h-2V7h2v10zm4 0h-2v-4h2v4z\"/>\n",
              "    </g>\n",
              "</svg>\n",
              "  </button>\n",
              "\n",
              "<style>\n",
              "  .colab-df-quickchart {\n",
              "      --bg-color: #E8F0FE;\n",
              "      --fill-color: #1967D2;\n",
              "      --hover-bg-color: #E2EBFA;\n",
              "      --hover-fill-color: #174EA6;\n",
              "      --disabled-fill-color: #AAA;\n",
              "      --disabled-bg-color: #DDD;\n",
              "  }\n",
              "\n",
              "  [theme=dark] .colab-df-quickchart {\n",
              "      --bg-color: #3B4455;\n",
              "      --fill-color: #D2E3FC;\n",
              "      --hover-bg-color: #434B5C;\n",
              "      --hover-fill-color: #FFFFFF;\n",
              "      --disabled-bg-color: #3B4455;\n",
              "      --disabled-fill-color: #666;\n",
              "  }\n",
              "\n",
              "  .colab-df-quickchart {\n",
              "    background-color: var(--bg-color);\n",
              "    border: none;\n",
              "    border-radius: 50%;\n",
              "    cursor: pointer;\n",
              "    display: none;\n",
              "    fill: var(--fill-color);\n",
              "    height: 32px;\n",
              "    padding: 0;\n",
              "    width: 32px;\n",
              "  }\n",
              "\n",
              "  .colab-df-quickchart:hover {\n",
              "    background-color: var(--hover-bg-color);\n",
              "    box-shadow: 0 1px 2px rgba(60, 64, 67, 0.3), 0 1px 3px 1px rgba(60, 64, 67, 0.15);\n",
              "    fill: var(--button-hover-fill-color);\n",
              "  }\n",
              "\n",
              "  .colab-df-quickchart-complete:disabled,\n",
              "  .colab-df-quickchart-complete:disabled:hover {\n",
              "    background-color: var(--disabled-bg-color);\n",
              "    fill: var(--disabled-fill-color);\n",
              "    box-shadow: none;\n",
              "  }\n",
              "\n",
              "  .colab-df-spinner {\n",
              "    border: 2px solid var(--fill-color);\n",
              "    border-color: transparent;\n",
              "    border-bottom-color: var(--fill-color);\n",
              "    animation:\n",
              "      spin 1s steps(1) infinite;\n",
              "  }\n",
              "\n",
              "  @keyframes spin {\n",
              "    0% {\n",
              "      border-color: transparent;\n",
              "      border-bottom-color: var(--fill-color);\n",
              "      border-left-color: var(--fill-color);\n",
              "    }\n",
              "    20% {\n",
              "      border-color: transparent;\n",
              "      border-left-color: var(--fill-color);\n",
              "      border-top-color: var(--fill-color);\n",
              "    }\n",
              "    30% {\n",
              "      border-color: transparent;\n",
              "      border-left-color: var(--fill-color);\n",
              "      border-top-color: var(--fill-color);\n",
              "      border-right-color: var(--fill-color);\n",
              "    }\n",
              "    40% {\n",
              "      border-color: transparent;\n",
              "      border-right-color: var(--fill-color);\n",
              "      border-top-color: var(--fill-color);\n",
              "    }\n",
              "    60% {\n",
              "      border-color: transparent;\n",
              "      border-right-color: var(--fill-color);\n",
              "    }\n",
              "    80% {\n",
              "      border-color: transparent;\n",
              "      border-right-color: var(--fill-color);\n",
              "      border-bottom-color: var(--fill-color);\n",
              "    }\n",
              "    90% {\n",
              "      border-color: transparent;\n",
              "      border-bottom-color: var(--fill-color);\n",
              "    }\n",
              "  }\n",
              "</style>\n",
              "\n",
              "  <script>\n",
              "    async function quickchart(key) {\n",
              "      const quickchartButtonEl =\n",
              "        document.querySelector('#' + key + ' button');\n",
              "      quickchartButtonEl.disabled = true;  // To prevent multiple clicks.\n",
              "      quickchartButtonEl.classList.add('colab-df-spinner');\n",
              "      try {\n",
              "        const charts = await google.colab.kernel.invokeFunction(\n",
              "            'suggestCharts', [key], {});\n",
              "      } catch (error) {\n",
              "        console.error('Error during call to suggestCharts:', error);\n",
              "      }\n",
              "      quickchartButtonEl.classList.remove('colab-df-spinner');\n",
              "      quickchartButtonEl.classList.add('colab-df-quickchart-complete');\n",
              "    }\n",
              "    (() => {\n",
              "      let quickchartButtonEl =\n",
              "        document.querySelector('#df-e73f2569-3cf6-4475-ab2e-9848729a914a button');\n",
              "      quickchartButtonEl.style.display =\n",
              "        google.colab.kernel.accessAllowed ? 'block' : 'none';\n",
              "    })();\n",
              "  </script>\n",
              "</div>\n",
              "    </div>\n",
              "  </div>\n"
            ]
          },
          "metadata": {},
          "execution_count": 15
        }
      ]
    },
    {
      "cell_type": "code",
      "source": [
        "# Creating the bar chart of `df_educ`\n",
        "\n",
        "sns.barplot(\n",
        "    x = \"EDUC\",\n",
        "    y = \"frequency\",\n",
        "    hue = \"TURNFEAR\",\n",
        "    data = df_educ\n",
        ")\n",
        "\n",
        "plt.xlabel(\"Education Level\")\n",
        "plt.ylabel(\"Frequency (%)\")\n",
        "plt.title(\"Educational Attainment: Credit Fearful vs. Non-fearful\");"
      ],
      "metadata": {
        "colab": {
          "base_uri": "https://localhost:8080/",
          "height": 472
        },
        "id": "11JclH8STFxH",
        "outputId": "0adc3ea2-1c21-41a5-9b5f-e905fb7883bd"
      },
      "execution_count": 16,
      "outputs": [
        {
          "output_type": "display_data",
          "data": {
            "text/plain": [
              "<Figure size 640x480 with 1 Axes>"
            ],
            "image/png": "[encoded data removed]"
          },
          "metadata": {}
        }
      ]
    },
    {
      "cell_type": "markdown",
      "source": [
        "In this plot, it can be seen that a much higher proportion of credit-fearful respondents have only a Level 8 & 9 (high school diploma), while university degrees (higher levels 12 - 14) are more common among the non-credit fearful."
      ],
      "metadata": {
        "id": "RHqh7l43TJyh"
      }
    },
    {
      "cell_type": "markdown",
      "source": [
        "### 5. Assets"
      ],
      "metadata": {
        "id": "Tlms5E_yTMSu"
      }
    },
    {
      "cell_type": "markdown",
      "source": [
        "Certainly, not all the information in the dataset pertains to demographics. In a banking context, emphasis often shifts from age-related details to evaluating individuals' capacity to manage debt effectively. To construct a model for this purpose, establishing relationships among various variables is essential. Creating correlation matrices serves as an effective starting point, unveiling patterns and dependencies within the data. These matrices provide insights into how different variables are interconnected, offering a clearer understanding of their mutual influences."
      ],
      "metadata": {
        "id": "criqqESJTMOJ"
      }
    },
    {
      "cell_type": "code",
      "source": [
        "# Calculating correlation coefficients for \"ASSET\" and \"HOUSES\" in the whole dataset\n",
        "asset_house_corr = df[\"ASSET\"].corr(df[\"HOUSES\"])\n",
        "print(\"SCF: Asset Houses Correlation:\", asset_house_corr)"
      ],
      "metadata": {
        "colab": {
          "base_uri": "https://localhost:8080/"
        },
        "id": "qVQl2zRbTHhV",
        "outputId": "d59c6675-968e-42f6-bfcf-6ca5cfdce93c"
      },
      "execution_count": 17,
      "outputs": [
        {
          "output_type": "stream",
          "name": "stdout",
          "text": [
            "SCF: Asset Houses Correlation: 0.5617765465095477\n"
          ]
        }
      ]
    },
    {
      "cell_type": "markdown",
      "source": [
        "A moderate positive correlation is somewhat anticipated in this context because for a considerable number of Americans, the primary residence holds the bulk of their total assets' value. This correlation is reasonable given the significance of home ownership in contributing to individuals' overall asset value."
      ],
      "metadata": {
        "id": "rEjEtb2cTT8O"
      }
    },
    {
      "cell_type": "code",
      "source": [
        "# Calculating correlation coefficients for \"ASSET\" and \"HOUSES\" in the fearful dataset\n",
        "asset_house_corr = df_fear[\"ASSET\"].corr(df_fear[\"HOUSES\"])\n",
        "print(\"Credit Fearful: Asset Houses Correlation:\", asset_house_corr)"
      ],
      "metadata": {
        "colab": {
          "base_uri": "https://localhost:8080/"
        },
        "id": "gYlnU1HiTRgt",
        "outputId": "e5e3d86f-44d4-40e2-a724-952a17630f99"
      },
      "execution_count": 18,
      "outputs": [
        {
          "output_type": "stream",
          "name": "stdout",
          "text": [
            "Credit Fearful: Asset Houses Correlation: 0.3649545427641166\n"
          ]
        }
      ]
    },
    {
      "cell_type": "markdown",
      "source": [
        "The correlation between the total value of assets and the value of the primary residence appears to be less pronounced within our TURNFEAR group compared to the broader population. This could be due to a number of reasons like Financial Constraints limiting their ability to accumulate assets beyond the primary residence, credit denials or priortizing debt payment."
      ],
      "metadata": {
        "id": "bUuFXJKJTcGP"
      }
    },
    {
      "cell_type": "markdown",
      "source": [
        "Making correlation matrices using the rest of the data for both df and df_fear to see if the differences persist looking at only 5 features: \"ASSET\", \"HOUSES\", \"INCOME\", \"DEBT\", and \"EDUC\"."
      ],
      "metadata": {
        "id": "RPKQNZGMTev5"
      }
    },
    {
      "cell_type": "code",
      "source": [
        "# Correlation matrix using the total population\n",
        "cols = [\"ASSET\", \"HOUSES\", \"INCOME\", \"DEBT\", \"EDUC\"]\n",
        "corr = df[cols].corr()\n",
        "corr.style.background_gradient(axis=None)"
      ],
      "metadata": {
        "colab": {
          "base_uri": "https://localhost:8080/",
          "height": 206
        },
        "id": "jB0PAegcTWif",
        "outputId": "e36304fe-35fe-4b94-b2a5-bb91ea3bb830"
      },
      "execution_count": 19,
      "outputs": [
        {
          "output_type": "execute_result",
          "data": {
            "text/plain": [
              "<pandas.io.formats.style.Styler at 0x79cb128ce170>"
            ],
            "text/html": [
              "<style type=\"text/css\">\n",
              "#T_a5ecd_row0_col0, #T_a5ecd_row1_col1, #T_a5ecd_row2_col2, #T_a5ecd_row3_col3, #T_a5ecd_row4_col4 {\n",
              "  background-color: #023858;\n",
              "  color: #f1f1f1;\n",
              "}\n",
              "#T_a5ecd_row0_col1, #T_a5ecd_row1_col0 {\n",
              "  background-color: #69a5cc;\n",
              "  color: #f1f1f1;\n",
              "}\n",
              "#T_a5ecd_row0_col2, #T_a5ecd_row2_col0 {\n",
              "  background-color: #2182b9;\n",
              "  color: #f1f1f1;\n",
              "}\n",
              "#T_a5ecd_row0_col3, #T_a5ecd_row2_col3, #T_a5ecd_row3_col0, #T_a5ecd_row3_col2 {\n",
              "  background-color: #d2d3e7;\n",
              "  color: #000000;\n",
              "}\n",
              "#T_a5ecd_row0_col4, #T_a5ecd_row4_col0 {\n",
              "  background-color: #faf2f8;\n",
              "  color: #000000;\n",
              "}\n",
              "#T_a5ecd_row1_col2, #T_a5ecd_row2_col1 {\n",
              "  background-color: #b7c5df;\n",
              "  color: #000000;\n",
              "}\n",
              "#T_a5ecd_row1_col3, #T_a5ecd_row3_col1 {\n",
              "  background-color: #e0dded;\n",
              "  color: #000000;\n",
              "}\n",
              "#T_a5ecd_row1_col4, #T_a5ecd_row4_col1 {\n",
              "  background-color: #efe9f3;\n",
              "  color: #000000;\n",
              "}\n",
              "#T_a5ecd_row2_col4, #T_a5ecd_row4_col2 {\n",
              "  background-color: #fef6fa;\n",
              "  color: #000000;\n",
              "}\n",
              "#T_a5ecd_row3_col4, #T_a5ecd_row4_col3 {\n",
              "  background-color: #fff7fb;\n",
              "  color: #000000;\n",
              "}\n",
              "</style>\n",
              "<table id=\"T_a5ecd\" class=\"dataframe\">\n",
              "  <thead>\n",
              "    <tr>\n",
              "      <th class=\"blank level0\" >&nbsp;</th>\n",
              "      <th id=\"T_a5ecd_level0_col0\" class=\"col_heading level0 col0\" >ASSET</th>\n",
              "      <th id=\"T_a5ecd_level0_col1\" class=\"col_heading level0 col1\" >HOUSES</th>\n",
              "      <th id=\"T_a5ecd_level0_col2\" class=\"col_heading level0 col2\" >INCOME</th>\n",
              "      <th id=\"T_a5ecd_level0_col3\" class=\"col_heading level0 col3\" >DEBT</th>\n",
              "      <th id=\"T_a5ecd_level0_col4\" class=\"col_heading level0 col4\" >EDUC</th>\n",
              "    </tr>\n",
              "  </thead>\n",
              "  <tbody>\n",
              "    <tr>\n",
              "      <th id=\"T_a5ecd_level0_row0\" class=\"row_heading level0 row0\" >ASSET</th>\n",
              "      <td id=\"T_a5ecd_row0_col0\" class=\"data row0 col0\" >1.000000</td>\n",
              "      <td id=\"T_a5ecd_row0_col1\" class=\"data row0 col1\" >0.561777</td>\n",
              "      <td id=\"T_a5ecd_row0_col2\" class=\"data row0 col2\" >0.706685</td>\n",
              "      <td id=\"T_a5ecd_row0_col3\" class=\"data row0 col3\" >0.307143</td>\n",
              "      <td id=\"T_a5ecd_row0_col4\" class=\"data row0 col4\" >0.120139</td>\n",
              "    </tr>\n",
              "    <tr>\n",
              "      <th id=\"T_a5ecd_level0_row1\" class=\"row_heading level0 row1\" >HOUSES</th>\n",
              "      <td id=\"T_a5ecd_row1_col0\" class=\"data row1 col0\" >0.561777</td>\n",
              "      <td id=\"T_a5ecd_row1_col1\" class=\"data row1 col1\" >1.000000</td>\n",
              "      <td id=\"T_a5ecd_row1_col2\" class=\"data row1 col2\" >0.384699</td>\n",
              "      <td id=\"T_a5ecd_row1_col3\" class=\"data row1 col3\" >0.251876</td>\n",
              "      <td id=\"T_a5ecd_row1_col4\" class=\"data row1 col4\" >0.186120</td>\n",
              "    </tr>\n",
              "    <tr>\n",
              "      <th id=\"T_a5ecd_level0_row2\" class=\"row_heading level0 row2\" >INCOME</th>\n",
              "      <td id=\"T_a5ecd_row2_col0\" class=\"data row2 col0\" >0.706685</td>\n",
              "      <td id=\"T_a5ecd_row2_col1\" class=\"data row2 col1\" >0.384699</td>\n",
              "      <td id=\"T_a5ecd_row2_col2\" class=\"data row2 col2\" >1.000000</td>\n",
              "      <td id=\"T_a5ecd_row2_col3\" class=\"data row2 col3\" >0.306534</td>\n",
              "      <td id=\"T_a5ecd_row2_col4\" class=\"data row2 col4\" >0.096549</td>\n",
              "    </tr>\n",
              "    <tr>\n",
              "      <th id=\"T_a5ecd_level0_row3\" class=\"row_heading level0 row3\" >DEBT</th>\n",
              "      <td id=\"T_a5ecd_row3_col0\" class=\"data row3 col0\" >0.307143</td>\n",
              "      <td id=\"T_a5ecd_row3_col1\" class=\"data row3 col1\" >0.251876</td>\n",
              "      <td id=\"T_a5ecd_row3_col2\" class=\"data row3 col2\" >0.306534</td>\n",
              "      <td id=\"T_a5ecd_row3_col3\" class=\"data row3 col3\" >1.000000</td>\n",
              "      <td id=\"T_a5ecd_row3_col4\" class=\"data row3 col4\" >0.086561</td>\n",
              "    </tr>\n",
              "    <tr>\n",
              "      <th id=\"T_a5ecd_level0_row4\" class=\"row_heading level0 row4\" >EDUC</th>\n",
              "      <td id=\"T_a5ecd_row4_col0\" class=\"data row4 col0\" >0.120139</td>\n",
              "      <td id=\"T_a5ecd_row4_col1\" class=\"data row4 col1\" >0.186120</td>\n",
              "      <td id=\"T_a5ecd_row4_col2\" class=\"data row4 col2\" >0.096549</td>\n",
              "      <td id=\"T_a5ecd_row4_col3\" class=\"data row4 col3\" >0.086561</td>\n",
              "      <td id=\"T_a5ecd_row4_col4\" class=\"data row4 col4\" >1.000000</td>\n",
              "    </tr>\n",
              "  </tbody>\n",
              "</table>\n"
            ]
          },
          "metadata": {},
          "execution_count": 19
        }
      ]
    },
    {
      "cell_type": "code",
      "source": [
        "# Correlation matrix using the credit fearful population\n",
        "corr = df_fear[cols].corr()\n",
        "corr.style.background_gradient(axis=None)"
      ],
      "metadata": {
        "colab": {
          "base_uri": "https://localhost:8080/",
          "height": 206
        },
        "id": "kjeLLIaMTgo6",
        "outputId": "460fe100-245b-432d-e5aa-6213480d0d1d"
      },
      "execution_count": 20,
      "outputs": [
        {
          "output_type": "execute_result",
          "data": {
            "text/plain": [
              "<pandas.io.formats.style.Styler at 0x79cb128cdc90>"
            ],
            "text/html": [
              "<style type=\"text/css\">\n",
              "#T_d2d51_row0_col0, #T_d2d51_row1_col1, #T_d2d51_row2_col2, #T_d2d51_row3_col3, #T_d2d51_row4_col4 {\n",
              "  background-color: #023858;\n",
              "  color: #f1f1f1;\n",
              "}\n",
              "#T_d2d51_row0_col1, #T_d2d51_row1_col0 {\n",
              "  background-color: #c4cbe3;\n",
              "  color: #000000;\n",
              "}\n",
              "#T_d2d51_row0_col2, #T_d2d51_row2_col0 {\n",
              "  background-color: #04588a;\n",
              "  color: #f1f1f1;\n",
              "}\n",
              "#T_d2d51_row0_col3, #T_d2d51_row3_col0 {\n",
              "  background-color: #97b7d7;\n",
              "  color: #000000;\n",
              "}\n",
              "#T_d2d51_row0_col4, #T_d2d51_row2_col4, #T_d2d51_row4_col0, #T_d2d51_row4_col2 {\n",
              "  background-color: #fff7fb;\n",
              "  color: #000000;\n",
              "}\n",
              "#T_d2d51_row1_col2, #T_d2d51_row2_col1 {\n",
              "  background-color: #d4d4e8;\n",
              "  color: #000000;\n",
              "}\n",
              "#T_d2d51_row1_col3, #T_d2d51_row3_col1 {\n",
              "  background-color: #308cbe;\n",
              "  color: #f1f1f1;\n",
              "}\n",
              "#T_d2d51_row1_col4, #T_d2d51_row4_col1 {\n",
              "  background-color: #f1ebf4;\n",
              "  color: #000000;\n",
              "}\n",
              "#T_d2d51_row2_col3, #T_d2d51_row3_col2 {\n",
              "  background-color: #a1bbda;\n",
              "  color: #000000;\n",
              "}\n",
              "#T_d2d51_row3_col4, #T_d2d51_row4_col3 {\n",
              "  background-color: #f2ecf5;\n",
              "  color: #000000;\n",
              "}\n",
              "</style>\n",
              "<table id=\"T_d2d51\" class=\"dataframe\">\n",
              "  <thead>\n",
              "    <tr>\n",
              "      <th class=\"blank level0\" >&nbsp;</th>\n",
              "      <th id=\"T_d2d51_level0_col0\" class=\"col_heading level0 col0\" >ASSET</th>\n",
              "      <th id=\"T_d2d51_level0_col1\" class=\"col_heading level0 col1\" >HOUSES</th>\n",
              "      <th id=\"T_d2d51_level0_col2\" class=\"col_heading level0 col2\" >INCOME</th>\n",
              "      <th id=\"T_d2d51_level0_col3\" class=\"col_heading level0 col3\" >DEBT</th>\n",
              "      <th id=\"T_d2d51_level0_col4\" class=\"col_heading level0 col4\" >EDUC</th>\n",
              "    </tr>\n",
              "  </thead>\n",
              "  <tbody>\n",
              "    <tr>\n",
              "      <th id=\"T_d2d51_level0_row0\" class=\"row_heading level0 row0\" >ASSET</th>\n",
              "      <td id=\"T_d2d51_row0_col0\" class=\"data row0 col0\" >1.000000</td>\n",
              "      <td id=\"T_d2d51_row0_col1\" class=\"data row0 col1\" >0.364955</td>\n",
              "      <td id=\"T_d2d51_row0_col2\" class=\"data row0 col2\" >0.893282</td>\n",
              "      <td id=\"T_d2d51_row0_col3\" class=\"data row0 col3\" >0.477171</td>\n",
              "      <td id=\"T_d2d51_row0_col4\" class=\"data row0 col4\" >0.110659</td>\n",
              "    </tr>\n",
              "    <tr>\n",
              "      <th id=\"T_d2d51_level0_row1\" class=\"row_heading level0 row1\" >HOUSES</th>\n",
              "      <td id=\"T_d2d51_row1_col0\" class=\"data row1 col0\" >0.364955</td>\n",
              "      <td id=\"T_d2d51_row1_col1\" class=\"data row1 col1\" >1.000000</td>\n",
              "      <td id=\"T_d2d51_row1_col2\" class=\"data row1 col2\" >0.314501</td>\n",
              "      <td id=\"T_d2d51_row1_col3\" class=\"data row1 col3\" >0.676984</td>\n",
              "      <td id=\"T_d2d51_row1_col4\" class=\"data row1 col4\" >0.195174</td>\n",
              "    </tr>\n",
              "    <tr>\n",
              "      <th id=\"T_d2d51_level0_row2\" class=\"row_heading level0 row2\" >INCOME</th>\n",
              "      <td id=\"T_d2d51_row2_col0\" class=\"data row2 col0\" >0.893282</td>\n",
              "      <td id=\"T_d2d51_row2_col1\" class=\"data row2 col1\" >0.314501</td>\n",
              "      <td id=\"T_d2d51_row2_col2\" class=\"data row2 col2\" >1.000000</td>\n",
              "      <td id=\"T_d2d51_row2_col3\" class=\"data row2 col3\" >0.456622</td>\n",
              "      <td id=\"T_d2d51_row2_col4\" class=\"data row2 col4\" >0.108845</td>\n",
              "    </tr>\n",
              "    <tr>\n",
              "      <th id=\"T_d2d51_level0_row3\" class=\"row_heading level0 row3\" >DEBT</th>\n",
              "      <td id=\"T_d2d51_row3_col0\" class=\"data row3 col0\" >0.477171</td>\n",
              "      <td id=\"T_d2d51_row3_col1\" class=\"data row3 col1\" >0.676984</td>\n",
              "      <td id=\"T_d2d51_row3_col2\" class=\"data row3 col2\" >0.456622</td>\n",
              "      <td id=\"T_d2d51_row3_col3\" class=\"data row3 col3\" >1.000000</td>\n",
              "      <td id=\"T_d2d51_row3_col4\" class=\"data row3 col4\" >0.182570</td>\n",
              "    </tr>\n",
              "    <tr>\n",
              "      <th id=\"T_d2d51_level0_row4\" class=\"row_heading level0 row4\" >EDUC</th>\n",
              "      <td id=\"T_d2d51_row4_col0\" class=\"data row4 col0\" >0.110659</td>\n",
              "      <td id=\"T_d2d51_row4_col1\" class=\"data row4 col1\" >0.195174</td>\n",
              "      <td id=\"T_d2d51_row4_col2\" class=\"data row4 col2\" >0.108845</td>\n",
              "      <td id=\"T_d2d51_row4_col3\" class=\"data row4 col3\" >0.182570</td>\n",
              "      <td id=\"T_d2d51_row4_col4\" class=\"data row4 col4\" >1.000000</td>\n",
              "    </tr>\n",
              "  </tbody>\n",
              "</table>\n"
            ]
          },
          "metadata": {},
          "execution_count": 20
        }
      ]
    },
    {
      "cell_type": "markdown",
      "source": [
        "The strongest correlation exists between income and assets, indicating that for individuals in the fearful category, a significant portion of their assets is derived from their income.\n",
        "\n",
        "Additionally, there is a noteworthy correlation between debt and housing, underscoring that a substantial portion of their debt is primarily associated with mortgage obligations. This suggests that the primary residence is the predominant source of debt for individuals in the \"TURNFEAR\" group, a finding that aligns intuitively with expectations.\n",
        "\n",
        "Moreover, \"DEBT\" and \"ASSET\" exhibit a striking disparity, as do \"EDUC\" and \"DEBT,\" although the latter is not as stark. Nonetheless, the discernible differences in these correlations are substantial enough to pique the interest of a hypothetical banker."
      ],
      "metadata": {
        "id": "95H3UhNmTkCN"
      }
    },
    {
      "cell_type": "markdown",
      "source": [
        "### 6. Debt"
      ],
      "metadata": {
        "id": "9NNPpNeZTnbc"
      }
    },
    {
      "cell_type": "code",
      "source": [
        "# Assessing the relationship between Assets and Debts for the whole population\n",
        "df.plot.scatter( x = \"DEBT\", y = \"ASSET\");"
      ],
      "metadata": {
        "colab": {
          "base_uri": "https://localhost:8080/",
          "height": 465
        },
        "id": "Ynb6dygXTh7a",
        "outputId": "010aee11-34d2-4e04-e8dd-c43f4c4b941d"
      },
      "execution_count": 21,
      "outputs": [
        {
          "output_type": "display_data",
          "data": {
            "text/plain": [
              "<Figure size 640x480 with 1 Axes>"
            ],
            "image/png": "[encoded data removed]"
          },
          "metadata": {}
        }
      ]
    },
    {
      "cell_type": "markdown",
      "source": [
        "There are a couple of outliers apparent in the dataset, where individuals carry substantial debts in the hundreds of millions of dollars, yet simultaneously possess assets valued in the billions of dollars. The diagram also shows that there isn't necessarily a large correlation between the debt and assets of the entire population."
      ],
      "metadata": {
        "id": "2u3XCrA4TrdI"
      }
    },
    {
      "cell_type": "code",
      "source": [
        "# Assessing the relationship between Assets and Debts for the credit fearful population\n",
        "df_fear.plot.scatter( x = \"DEBT\", y = \"ASSET\");"
      ],
      "metadata": {
        "colab": {
          "base_uri": "https://localhost:8080/",
          "height": 465
        },
        "id": "9cln0-f1TpQA",
        "outputId": "c3e45b1b-9eb4-4009-f6e3-876ee23901fc"
      },
      "execution_count": 22,
      "outputs": [
        {
          "output_type": "display_data",
          "data": {
            "text/plain": [
              "<Figure size 640x480 with 1 Axes>"
            ],
            "image/png": "[encoded data removed]"
          },
          "metadata": {}
        }
      ]
    },
    {
      "cell_type": "markdown",
      "source": [
        "The plot above illustrates distinct profiles within the credit fearful population. Individuals with both low debt and low assets, as well as those with very high debt and medium assets, are discernible. Additionally, individuals with low debt but higher assets are evident. This diversity highlights the existence of different classification profiles within the credit fearful population."
      ],
      "metadata": {
        "id": "vH0tfYFrTvcW"
      }
    },
    {
      "cell_type": "code",
      "source": [
        "# Assessing the relationship between Houses and Debts for the whole population\n",
        "df.plot.scatter( x = \"DEBT\", y = \"HOUSES\");"
      ],
      "metadata": {
        "colab": {
          "base_uri": "https://localhost:8080/",
          "height": 465
        },
        "id": "a4Tg0DZGTs_b",
        "outputId": "c1bac8ed-a567-4039-87ee-a7a7639e3a8a"
      },
      "execution_count": 23,
      "outputs": [
        {
          "output_type": "display_data",
          "data": {
            "text/plain": [
              "<Figure size 640x480 with 1 Axes>"
            ],
            "image/png": "[encoded data removed]"
          },
          "metadata": {}
        }
      ]
    },
    {
      "cell_type": "markdown",
      "source": [
        "There is just a moderate correlation between debt and home value. We can see a couple of clusters"
      ],
      "metadata": {
        "id": "3d80XA06TzX2"
      }
    },
    {
      "cell_type": "code",
      "source": [
        "# Assessing the relationship between Assets and Debts for the credit fearful population\n",
        "df_fear.plot.scatter( x = \"DEBT\", y = \"HOUSES\");"
      ],
      "metadata": {
        "colab": {
          "base_uri": "https://localhost:8080/",
          "height": 465
        },
        "id": "oXQChuo8Tw0q",
        "outputId": "633d1872-2c9a-4f6f-83d2-93bd15c7f935"
      },
      "execution_count": 24,
      "outputs": [
        {
          "output_type": "display_data",
          "data": {
            "text/plain": [
              "<Figure size 640x480 with 1 Axes>"
            ],
            "image/png": "[encoded data removed]"
          },
          "metadata": {}
        }
      ]
    },
    {
      "cell_type": "markdown",
      "source": [
        "The presence of outliers in the data makes it somewhat challenging to discern the differences between these two plots. However, the overall relationship is still evident: the graph for the credit fearful group (df_fear) exhibits an almost perfect linear relationship, whereas the graph for the entire dataset (df) appears more intricate or muddled. Additionally, there are more distinct clusters observable within the credit fearful group."
      ],
      "metadata": {
        "id": "R3R24G1WT3pK"
      }
    }
  ]
}